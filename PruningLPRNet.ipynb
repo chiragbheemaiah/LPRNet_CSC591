{
  "cells": [
    {
      "cell_type": "code",
      "source": [
        "! git clone https://github.com/sirius-ai/LPRNet_Pytorch"
      ],
      "metadata": {
        "colab": {
          "base_uri": "https://localhost:8080/"
        },
        "id": "k66W3IcX4Kdt",
        "outputId": "fc35d0f8-7b94-46d9-ca93-cf49518d4a3a"
      },
      "id": "k66W3IcX4Kdt",
      "execution_count": 1,
      "outputs": [
        {
          "output_type": "stream",
          "name": "stdout",
          "text": [
            "Cloning into 'LPRNet_Pytorch'...\n",
            "remote: Enumerating objects: 1071, done.\u001b[K\n",
            "remote: Counting objects: 100% (34/34), done.\u001b[K\n",
            "remote: Compressing objects: 100% (12/12), done.\u001b[K\n",
            "remote: Total 1071 (delta 25), reused 22 (delta 22), pack-reused 1037 (from 1)\u001b[K\n",
            "Receiving objects: 100% (1071/1071), 20.04 MiB | 8.16 MiB/s, done.\n",
            "Resolving deltas: 100% (35/35), done.\n"
          ]
        }
      ]
    },
    {
      "cell_type": "code",
      "source": [
        " cd LPRNet_Pytorch/"
      ],
      "metadata": {
        "colab": {
          "base_uri": "https://localhost:8080/"
        },
        "id": "YaZ7OkqN4SWG",
        "outputId": "06b90c06-d222-425b-dfce-0a9c11f32b81"
      },
      "id": "YaZ7OkqN4SWG",
      "execution_count": 2,
      "outputs": [
        {
          "output_type": "stream",
          "name": "stdout",
          "text": [
            "/content/LPRNet_Pytorch\n"
          ]
        }
      ]
    },
    {
      "cell_type": "code",
      "source": [
        "# Base Model\n",
        "! python test_LPRNet.py"
      ],
      "metadata": {
        "colab": {
          "base_uri": "https://localhost:8080/"
        },
        "id": "ch-apMFF5jFt",
        "outputId": "35aade2c-0cf9-4a7f-83f0-c170c45b36ab"
      },
      "id": "ch-apMFF5jFt",
      "execution_count": 14,
      "outputs": [
        {
          "output_type": "stream",
          "name": "stdout",
          "text": [
            "Successful to build network!\n",
            "/content/LPRNet_Pytorch/test_LPRNet.py:65: FutureWarning: You are using `torch.load` with `weights_only=False` (the current default value), which uses the default pickle module implicitly. It is possible to construct malicious pickle data which will execute arbitrary code during unpickling (See https://github.com/pytorch/pytorch/blob/main/SECURITY.md#untrusted-models for more details). In a future release, the default value for `weights_only` will be flipped to `True`. This limits the functions that could be executed during unpickling. Arbitrary objects will no longer be allowed to be loaded via this mode unless they are explicitly allowlisted by the user via `torch.serialization.add_safe_globals`. We recommend you start setting `weights_only=True` for any use case where you don't have full control of the loaded file. Please open an issue on GitHub for any issues related to this experimental feature.\n",
            "  lprnet.load_state_dict(torch.load(args.pretrained_model))\n",
            "load pretrained model successful!\n",
            "/usr/local/lib/python3.10/dist-packages/torch/utils/data/dataloader.py:617: UserWarning: This DataLoader will create 8 worker processes in total. Our suggested max number of worker in current system is 2, which is smaller than what this DataLoader is going to create. Please be aware that excessive worker creation might get DataLoader running slow or even freeze, lower the worker number to avoid potential slowness/freeze if necessary.\n",
            "  warnings.warn(\n",
            "[Info] Test Accuracy: 0.899 [899:59:42:1000]\n",
            "[Info] Test Speed: 0.001781341791152954s 1/1000]\n"
          ]
        }
      ]
    },
    {
      "cell_type": "code",
      "source": [
        "# Normal Pruning\n",
        "! python test_LPRNet.py --pretrained_model ./weights/pruned_model_weights_trial2.pth"
      ],
      "metadata": {
        "colab": {
          "base_uri": "https://localhost:8080/"
        },
        "id": "3SX8efej5rNl",
        "outputId": "0be65e98-2bab-4036-aa66-4abd52c396ba"
      },
      "id": "3SX8efej5rNl",
      "execution_count": 15,
      "outputs": [
        {
          "output_type": "stream",
          "name": "stdout",
          "text": [
            "Model: ./weights/pruned_model_weights_trial2.pth\n",
            "Successful to build network!\n",
            "/content/LPRNet_Pytorch/test_LPRNet.py:65: FutureWarning: You are using `torch.load` with `weights_only=False` (the current default value), which uses the default pickle module implicitly. It is possible to construct malicious pickle data which will execute arbitrary code during unpickling (See https://github.com/pytorch/pytorch/blob/main/SECURITY.md#untrusted-models for more details). In a future release, the default value for `weights_only` will be flipped to `True`. This limits the functions that could be executed during unpickling. Arbitrary objects will no longer be allowed to be loaded via this mode unless they are explicitly allowlisted by the user via `torch.serialization.add_safe_globals`. We recommend you start setting `weights_only=True` for any use case where you don't have full control of the loaded file. Please open an issue on GitHub for any issues related to this experimental feature.\n",
            "  lprnet.load_state_dict(torch.load(args.pretrained_model))\n",
            "load pretrained model successful!\n",
            "/usr/local/lib/python3.10/dist-packages/torch/utils/data/dataloader.py:617: UserWarning: This DataLoader will create 8 worker processes in total. Our suggested max number of worker in current system is 2, which is smaller than what this DataLoader is going to create. Please be aware that excessive worker creation might get DataLoader running slow or even freeze, lower the worker number to avoid potential slowness/freeze if necessary.\n",
            "  warnings.warn(\n",
            "[Info] Test Accuracy: 0.897 [897:68:35:1000]\n",
            "[Info] Test Speed: 0.0008062369823455811s 1/1000]\n"
          ]
        }
      ]
    },
    {
      "cell_type": "code",
      "source": [
        "# Pro Pruning\n",
        "! python test_LPRNet.py --pretrained_model ./weights/pruned_model_weights_trial.pth"
      ],
      "metadata": {
        "colab": {
          "base_uri": "https://localhost:8080/"
        },
        "id": "O3TiUaCL5upf",
        "outputId": "14339468-eb2d-4253-e8c4-b71a3170c836"
      },
      "id": "O3TiUaCL5upf",
      "execution_count": 16,
      "outputs": [
        {
          "output_type": "stream",
          "name": "stdout",
          "text": [
            "Model: ./weights/pruned_model_weights_trial.pth\n",
            "Successful to build network!\n",
            "/content/LPRNet_Pytorch/test_LPRNet.py:65: FutureWarning: You are using `torch.load` with `weights_only=False` (the current default value), which uses the default pickle module implicitly. It is possible to construct malicious pickle data which will execute arbitrary code during unpickling (See https://github.com/pytorch/pytorch/blob/main/SECURITY.md#untrusted-models for more details). In a future release, the default value for `weights_only` will be flipped to `True`. This limits the functions that could be executed during unpickling. Arbitrary objects will no longer be allowed to be loaded via this mode unless they are explicitly allowlisted by the user via `torch.serialization.add_safe_globals`. We recommend you start setting `weights_only=True` for any use case where you don't have full control of the loaded file. Please open an issue on GitHub for any issues related to this experimental feature.\n",
            "  lprnet.load_state_dict(torch.load(args.pretrained_model))\n",
            "load pretrained model successful!\n",
            "/usr/local/lib/python3.10/dist-packages/torch/utils/data/dataloader.py:617: UserWarning: This DataLoader will create 8 worker processes in total. Our suggested max number of worker in current system is 2, which is smaller than what this DataLoader is going to create. Please be aware that excessive worker creation might get DataLoader running slow or even freeze, lower the worker number to avoid potential slowness/freeze if necessary.\n",
            "  warnings.warn(\n",
            "[Info] Test Accuracy: 0.894 [894:69:37:1000]\n",
            "[Info] Test Speed: 0.0009679653644561767s 1/1000]\n"
          ]
        }
      ]
    },
    {
      "cell_type": "code",
      "execution_count": 3,
      "id": "c70cb0c6-5160-4201-99f4-a39d9c5e1994",
      "metadata": {
        "id": "c70cb0c6-5160-4201-99f4-a39d9c5e1994"
      },
      "outputs": [],
      "source": [
        "import torch.nn as nn\n",
        "import torch\n",
        "\n",
        "class small_basic_block(nn.Module):\n",
        "    def __init__(self, ch_in, ch_out):\n",
        "        super(small_basic_block, self).__init__()\n",
        "        self.block = nn.Sequential(\n",
        "            nn.Conv2d(ch_in, ch_out // 4, kernel_size=1),\n",
        "            nn.ReLU(),\n",
        "            nn.Conv2d(ch_out // 4, ch_out // 4, kernel_size=(3, 1), padding=(1, 0)),\n",
        "            nn.ReLU(),\n",
        "            nn.Conv2d(ch_out // 4, ch_out // 4, kernel_size=(1, 3), padding=(0, 1)),\n",
        "            nn.ReLU(),\n",
        "            nn.Conv2d(ch_out // 4, ch_out, kernel_size=1),\n",
        "        )\n",
        "    def forward(self, x):\n",
        "        return self.block(x)\n",
        "\n",
        "class LPRNet(nn.Module):\n",
        "    def __init__(self, lpr_max_len, phase, class_num, dropout_rate):\n",
        "        super(LPRNet, self).__init__()\n",
        "        self.phase = phase\n",
        "        self.lpr_max_len = lpr_max_len\n",
        "        self.class_num = class_num\n",
        "        self.backbone = nn.Sequential(\n",
        "            nn.Conv2d(in_channels=3, out_channels=64, kernel_size=3, stride=1), # 0\n",
        "            nn.BatchNorm2d(num_features=64),\n",
        "            nn.ReLU(),  # 2\n",
        "            nn.MaxPool3d(kernel_size=(1, 3, 3), stride=(1, 1, 1)),\n",
        "            small_basic_block(ch_in=64, ch_out=128),    # *** 4 ***\n",
        "            nn.BatchNorm2d(num_features=128),\n",
        "            nn.ReLU(),  # 6\n",
        "            nn.MaxPool3d(kernel_size=(1, 3, 3), stride=(2, 1, 2)),\n",
        "            small_basic_block(ch_in=64, ch_out=256),   # 8\n",
        "            nn.BatchNorm2d(num_features=256),\n",
        "            nn.ReLU(),  # 10\n",
        "            small_basic_block(ch_in=256, ch_out=256),   # *** 11 ***\n",
        "            nn.BatchNorm2d(num_features=256),   # 12\n",
        "            nn.ReLU(),\n",
        "            nn.MaxPool3d(kernel_size=(1, 3, 3), stride=(4, 1, 2)),  # 14\n",
        "            nn.Dropout(dropout_rate),\n",
        "            nn.Conv2d(in_channels=64, out_channels=256, kernel_size=(1, 4), stride=1),  # 16\n",
        "            nn.BatchNorm2d(num_features=256),\n",
        "            nn.ReLU(),  # 18\n",
        "            nn.Dropout(dropout_rate),\n",
        "            nn.Conv2d(in_channels=256, out_channels=class_num, kernel_size=(13, 1), stride=1), # 20\n",
        "            nn.BatchNorm2d(num_features=class_num),\n",
        "            nn.ReLU(),  # *** 22 ***\n",
        "        )\n",
        "        self.container = nn.Sequential(\n",
        "            nn.Conv2d(in_channels=448+self.class_num, out_channels=self.class_num, kernel_size=(1, 1), stride=(1, 1)),\n",
        "            # nn.BatchNorm2d(num_features=self.class_num),\n",
        "            # nn.ReLU(),\n",
        "            # nn.Conv2d(in_channels=self.class_num, out_channels=self.lpr_max_len+1, kernel_size=3, stride=2),\n",
        "            # nn.ReLU(),\n",
        "        )\n",
        "\n",
        "    def forward(self, x):\n",
        "        keep_features = list()\n",
        "        for i, layer in enumerate(self.backbone.children()):\n",
        "            x = layer(x)\n",
        "            if i in [2, 6, 13, 22]: # [2, 4, 8, 11, 22]\n",
        "                keep_features.append(x)\n",
        "\n",
        "        global_context = list()\n",
        "        for i, f in enumerate(keep_features):\n",
        "            if i in [0, 1]:\n",
        "                f = nn.AvgPool2d(kernel_size=5, stride=5)(f)\n",
        "            if i in [2]:\n",
        "                f = nn.AvgPool2d(kernel_size=(4, 10), stride=(4, 2))(f)\n",
        "            f_pow = torch.pow(f, 2)\n",
        "            f_mean = torch.mean(f_pow)\n",
        "            f = torch.div(f, f_mean)\n",
        "            global_context.append(f)\n",
        "\n",
        "        x = torch.cat(global_context, 1)\n",
        "        x = self.container(x)\n",
        "        logits = torch.mean(x, dim=2)\n",
        "\n",
        "        return logits\n",
        "\n",
        "def build_lprnet(lpr_max_len=8, phase=False, class_num=66, dropout_rate=0.5):\n",
        "\n",
        "    Net = LPRNet(lpr_max_len, phase, class_num, dropout_rate)\n",
        "\n",
        "    if phase == \"train\":\n",
        "        return Net.train()\n",
        "    else:\n",
        "        return Net.eval()"
      ]
    },
    {
      "cell_type": "code",
      "execution_count": 4,
      "id": "3521eef2-af8d-4935-aa78-edbfa94322ef",
      "metadata": {
        "colab": {
          "base_uri": "https://localhost:8080/"
        },
        "id": "3521eef2-af8d-4935-aa78-edbfa94322ef",
        "outputId": "2d3f2c87-f0e5-46eb-bb6e-af1b107bf57d"
      },
      "outputs": [
        {
          "output_type": "stream",
          "name": "stderr",
          "text": [
            "<ipython-input-4-608e68d2df59>:5: FutureWarning: You are using `torch.load` with `weights_only=False` (the current default value), which uses the default pickle module implicitly. It is possible to construct malicious pickle data which will execute arbitrary code during unpickling (See https://github.com/pytorch/pytorch/blob/main/SECURITY.md#untrusted-models for more details). In a future release, the default value for `weights_only` will be flipped to `True`. This limits the functions that could be executed during unpickling. Arbitrary objects will no longer be allowed to be loaded via this mode unless they are explicitly allowlisted by the user via `torch.serialization.add_safe_globals`. We recommend you start setting `weights_only=True` for any use case where you don't have full control of the loaded file. Please open an issue on GitHub for any issues related to this experimental feature.\n",
            "  state_dict = torch.load(weight_path)\n"
          ]
        }
      ],
      "source": [
        "def load_model(weight_path, lpr_max_len=7, phase='test', class_num=68, dropout_rate=0.5):\n",
        "\n",
        "    model = LPRNet(lpr_max_len, phase, class_num, dropout_rate)\n",
        "\n",
        "    state_dict = torch.load(weight_path)\n",
        "    model.load_state_dict(state_dict)\n",
        "\n",
        "    return model\n",
        "\n",
        "model = load_model(\"./weights/Final_LPRNet_model.pth\")"
      ]
    },
    {
      "cell_type": "code",
      "execution_count": 5,
      "id": "956585a7-f17a-418e-84ad-be1355167990",
      "metadata": {
        "colab": {
          "base_uri": "https://localhost:8080/"
        },
        "id": "956585a7-f17a-418e-84ad-be1355167990",
        "outputId": "aa813087-b23d-47e6-9d4c-4df38d63ff14"
      },
      "outputs": [
        {
          "output_type": "stream",
          "name": "stdout",
          "text": [
            "Weights of the first Convolutional Layer:\n",
            "torch.Size([64, 3, 3, 3])\n",
            "\n",
            "Weights of the first small_basic_block:\n",
            "torch.Size([32, 64, 1, 1])\n"
          ]
        }
      ],
      "source": [
        "print(\"Weights of the first Convolutional Layer:\")\n",
        "print(model.backbone[0].weight.data.shape)\n",
        "\n",
        "print(\"\\nWeights of the first small_basic_block:\")\n",
        "first_basic_block = model.backbone[4].block[0]\n",
        "print(first_basic_block.weight.data.shape)"
      ]
    },
    {
      "cell_type": "code",
      "execution_count": 6,
      "id": "c9b9dba9-aca0-4799-aebc-aaa4341cf0eb",
      "metadata": {
        "id": "c9b9dba9-aca0-4799-aebc-aaa4341cf0eb"
      },
      "outputs": [],
      "source": [
        "import torch\n",
        "from torch import nn\n",
        "import torch.nn.utils.prune as prune\n",
        "import torch.nn.functional as F"
      ]
    },
    {
      "cell_type": "code",
      "execution_count": null,
      "id": "261d495d-42e9-4b17-aa5b-7de317aa18ab",
      "metadata": {
        "id": "261d495d-42e9-4b17-aa5b-7de317aa18ab"
      },
      "outputs": [],
      "source": [
        "module = model.backbone\n",
        "print(list(module.named_parameters()))"
      ]
    },
    {
      "cell_type": "code",
      "execution_count": null,
      "id": "8b8b07a1-d70e-4702-a804-c7563d82c4a4",
      "metadata": {
        "id": "8b8b07a1-d70e-4702-a804-c7563d82c4a4",
        "outputId": "84094d34-fbbb-4a09-a45e-d9dc7d4e3e90"
      },
      "outputs": [
        {
          "name": "stdout",
          "output_type": "stream",
          "text": [
            "odict_keys(['backbone.0.weight', 'backbone.0.bias', 'backbone.1.weight', 'backbone.1.bias', 'backbone.1.running_mean', 'backbone.1.running_var', 'backbone.1.num_batches_tracked', 'backbone.4.block.0.weight', 'backbone.4.block.0.bias', 'backbone.4.block.2.weight', 'backbone.4.block.2.bias', 'backbone.4.block.4.weight', 'backbone.4.block.4.bias', 'backbone.4.block.6.weight', 'backbone.4.block.6.bias', 'backbone.5.weight', 'backbone.5.bias', 'backbone.5.running_mean', 'backbone.5.running_var', 'backbone.5.num_batches_tracked', 'backbone.8.block.0.weight', 'backbone.8.block.0.bias', 'backbone.8.block.2.weight', 'backbone.8.block.2.bias', 'backbone.8.block.4.weight', 'backbone.8.block.4.bias', 'backbone.8.block.6.weight', 'backbone.8.block.6.bias', 'backbone.9.weight', 'backbone.9.bias', 'backbone.9.running_mean', 'backbone.9.running_var', 'backbone.9.num_batches_tracked', 'backbone.11.block.0.weight', 'backbone.11.block.0.bias', 'backbone.11.block.2.weight', 'backbone.11.block.2.bias', 'backbone.11.block.4.weight', 'backbone.11.block.4.bias', 'backbone.11.block.6.weight', 'backbone.11.block.6.bias', 'backbone.12.weight', 'backbone.12.bias', 'backbone.12.running_mean', 'backbone.12.running_var', 'backbone.12.num_batches_tracked', 'backbone.16.weight', 'backbone.16.bias', 'backbone.17.weight', 'backbone.17.bias', 'backbone.17.running_mean', 'backbone.17.running_var', 'backbone.17.num_batches_tracked', 'backbone.20.weight', 'backbone.20.bias', 'backbone.21.weight', 'backbone.21.bias', 'backbone.21.running_mean', 'backbone.21.running_var', 'backbone.21.num_batches_tracked', 'container.0.weight', 'container.0.bias'])\n"
          ]
        }
      ],
      "source": [
        "print(model.state_dict().keys())"
      ]
    },
    {
      "cell_type": "code",
      "execution_count": 8,
      "id": "fe753a2d-54a8-4035-9ac1-95ec3539a35d",
      "metadata": {
        "id": "fe753a2d-54a8-4035-9ac1-95ec3539a35d"
      },
      "outputs": [],
      "source": [
        "parameters_to_prune = []\n",
        "\n",
        "for name, module in model.named_modules():\n",
        "    if isinstance(module, nn.Conv2d):\n",
        "        parameters_to_prune.append((module, 'weight'))"
      ]
    },
    {
      "cell_type": "code",
      "execution_count": 9,
      "id": "3b897ebc-6d8b-4501-a0c9-694c4eb49765",
      "metadata": {
        "colab": {
          "base_uri": "https://localhost:8080/"
        },
        "id": "3b897ebc-6d8b-4501-a0c9-694c4eb49765",
        "outputId": "8f1ad200-844e-4f58-b82c-c64a5d9637d8"
      },
      "outputs": [
        {
          "output_type": "execute_result",
          "data": {
            "text/plain": [
              "[(Conv2d(3, 64, kernel_size=(3, 3), stride=(1, 1)), 'weight'),\n",
              " (Conv2d(64, 32, kernel_size=(1, 1), stride=(1, 1)), 'weight'),\n",
              " (Conv2d(32, 32, kernel_size=(3, 1), stride=(1, 1), padding=(1, 0)), 'weight'),\n",
              " (Conv2d(32, 32, kernel_size=(1, 3), stride=(1, 1), padding=(0, 1)), 'weight'),\n",
              " (Conv2d(32, 128, kernel_size=(1, 1), stride=(1, 1)), 'weight'),\n",
              " (Conv2d(64, 64, kernel_size=(1, 1), stride=(1, 1)), 'weight'),\n",
              " (Conv2d(64, 64, kernel_size=(3, 1), stride=(1, 1), padding=(1, 0)), 'weight'),\n",
              " (Conv2d(64, 64, kernel_size=(1, 3), stride=(1, 1), padding=(0, 1)), 'weight'),\n",
              " (Conv2d(64, 256, kernel_size=(1, 1), stride=(1, 1)), 'weight'),\n",
              " (Conv2d(256, 64, kernel_size=(1, 1), stride=(1, 1)), 'weight'),\n",
              " (Conv2d(64, 64, kernel_size=(3, 1), stride=(1, 1), padding=(1, 0)), 'weight'),\n",
              " (Conv2d(64, 64, kernel_size=(1, 3), stride=(1, 1), padding=(0, 1)), 'weight'),\n",
              " (Conv2d(64, 256, kernel_size=(1, 1), stride=(1, 1)), 'weight'),\n",
              " (Conv2d(64, 256, kernel_size=(1, 4), stride=(1, 1)), 'weight'),\n",
              " (Conv2d(256, 68, kernel_size=(13, 1), stride=(1, 1)), 'weight'),\n",
              " (Conv2d(516, 68, kernel_size=(1, 1), stride=(1, 1)), 'weight')]"
            ]
          },
          "metadata": {},
          "execution_count": 9
        }
      ],
      "source": [
        "parameters_to_prune"
      ]
    },
    {
      "cell_type": "code",
      "execution_count": 10,
      "id": "b78683a3-f3d0-46c8-b278-c3b69eaffa4f",
      "metadata": {
        "id": "b78683a3-f3d0-46c8-b278-c3b69eaffa4f"
      },
      "outputs": [],
      "source": [
        "prune.global_unstructured(\n",
        "    parameters_to_prune,\n",
        "    pruning_method=prune.L1Unstructured,\n",
        "    amount=0.9,\n",
        ")"
      ]
    },
    {
      "cell_type": "code",
      "execution_count": 11,
      "id": "e95850ff-56a3-49c9-ba60-8827694efccd",
      "metadata": {
        "id": "e95850ff-56a3-49c9-ba60-8827694efccd"
      },
      "outputs": [],
      "source": [
        "for module, _ in parameters_to_prune:\n",
        "    prune.remove(module, 'weight')\n",
        "\n",
        "torch.save(model.state_dict(), './weights/pruned_model_weights_trial2.pth')"
      ]
    },
    {
      "cell_type": "code",
      "execution_count": 12,
      "id": "8a5662bd-0fd2-4e74-920f-8b8e420b7753",
      "metadata": {
        "id": "8a5662bd-0fd2-4e74-920f-8b8e420b7753"
      },
      "outputs": [],
      "source": [
        "parameters_to_prune_first_4 = []\n",
        "parameters_to_prune_next_8 = []\n",
        "parameters_to_prune_last_4 = []\n",
        "\n",
        "conv2d_count = 0\n",
        "for name, module in model.named_modules():\n",
        "    if isinstance(module, nn.Conv2d):\n",
        "        if conv2d_count < 4:\n",
        "            parameters_to_prune_first_4.append((module, 'weight'))\n",
        "        elif conv2d_count < 12:\n",
        "            parameters_to_prune_next_8.append((module, 'weight'))\n",
        "        else:\n",
        "            parameters_to_prune_last_4.append((module, 'weight'))\n",
        "\n",
        "        conv2d_count += 1\n",
        "\n",
        "prune.global_unstructured(\n",
        "    parameters_to_prune_first_4,\n",
        "    pruning_method=prune.L1Unstructured,\n",
        "    amount=0.2,  # 20% pruning for first 4 layers\n",
        ")\n",
        "\n",
        "prune.global_unstructured(\n",
        "    parameters_to_prune_next_8,\n",
        "    pruning_method=prune.L1Unstructured,\n",
        "    amount=0.9,  # 50% pruning for next 8 layers\n",
        ")\n",
        "\n",
        "prune.global_unstructured(\n",
        "    parameters_to_prune_last_4,\n",
        "    pruning_method=prune.L1Unstructured,\n",
        "    amount=0.9,  # 80% pruning for last 4 layers\n",
        ")"
      ]
    },
    {
      "cell_type": "code",
      "execution_count": 13,
      "id": "c242a1b5-c6d3-49d2-8075-1e9229f17b71",
      "metadata": {
        "id": "c242a1b5-c6d3-49d2-8075-1e9229f17b71"
      },
      "outputs": [],
      "source": [
        "for module, _ in parameters_to_prune_first_4:\n",
        "    prune.remove(module, 'weight')\n",
        "\n",
        "for module, _ in parameters_to_prune_next_8:\n",
        "    prune.remove(module, 'weight')\n",
        "\n",
        "for module, _ in parameters_to_prune_last_4:\n",
        "    prune.remove(module, 'weight')\n",
        "\n",
        "torch.save(model.state_dict(), './weights/pruned_model_weights_trial.pth')"
      ]
    },
    {
      "cell_type": "code",
      "execution_count": null,
      "id": "70cfe2b8-57bb-415b-a95e-46e4bc85c0f4",
      "metadata": {
        "id": "70cfe2b8-57bb-415b-a95e-46e4bc85c0f4",
        "outputId": "218e3508-dca9-448b-d197-25eb547a427c"
      },
      "outputs": [
        {
          "data": {
            "text/plain": [
              "[(Conv2d(3, 64, kernel_size=(3, 3), stride=(1, 1)), 'weight'),\n",
              " (Conv2d(64, 32, kernel_size=(1, 1), stride=(1, 1)), 'weight'),\n",
              " (Conv2d(32, 32, kernel_size=(3, 1), stride=(1, 1), padding=(1, 0)), 'weight'),\n",
              " (Conv2d(32, 32, kernel_size=(1, 3), stride=(1, 1), padding=(0, 1)), 'weight')]"
            ]
          },
          "execution_count": 53,
          "metadata": {},
          "output_type": "execute_result"
        }
      ],
      "source": [
        "parameters_to_prune_first_4"
      ]
    },
    {
      "cell_type": "code",
      "execution_count": null,
      "id": "a50607f4-6363-4a9f-8778-f7137c3081d7",
      "metadata": {
        "id": "a50607f4-6363-4a9f-8778-f7137c3081d7",
        "outputId": "9e75aaa4-e89e-4046-d630-f2e75efd1f2b"
      },
      "outputs": [
        {
          "data": {
            "text/plain": [
              "[(Conv2d(32, 128, kernel_size=(1, 1), stride=(1, 1)), 'weight'),\n",
              " (Conv2d(64, 64, kernel_size=(1, 1), stride=(1, 1)), 'weight'),\n",
              " (Conv2d(64, 64, kernel_size=(3, 1), stride=(1, 1), padding=(1, 0)), 'weight'),\n",
              " (Conv2d(64, 64, kernel_size=(1, 3), stride=(1, 1), padding=(0, 1)), 'weight'),\n",
              " (Conv2d(64, 256, kernel_size=(1, 1), stride=(1, 1)), 'weight'),\n",
              " (Conv2d(256, 64, kernel_size=(1, 1), stride=(1, 1)), 'weight'),\n",
              " (Conv2d(64, 64, kernel_size=(3, 1), stride=(1, 1), padding=(1, 0)), 'weight'),\n",
              " (Conv2d(64, 64, kernel_size=(1, 3), stride=(1, 1), padding=(0, 1)), 'weight')]"
            ]
          },
          "execution_count": 52,
          "metadata": {},
          "output_type": "execute_result"
        }
      ],
      "source": [
        "parameters_to_prune_next_8"
      ]
    },
    {
      "cell_type": "code",
      "execution_count": null,
      "id": "31c1d86f-7625-41bc-a0aa-640a7072cd67",
      "metadata": {
        "id": "31c1d86f-7625-41bc-a0aa-640a7072cd67",
        "outputId": "3ebfd3d6-25a1-4603-c3ab-f30246650f8c"
      },
      "outputs": [
        {
          "data": {
            "text/plain": [
              "[(Conv2d(64, 256, kernel_size=(1, 1), stride=(1, 1)), 'weight'),\n",
              " (Conv2d(64, 256, kernel_size=(1, 4), stride=(1, 1)), 'weight'),\n",
              " (Conv2d(256, 68, kernel_size=(13, 1), stride=(1, 1)), 'weight'),\n",
              " (Conv2d(516, 68, kernel_size=(1, 1), stride=(1, 1)), 'weight')]"
            ]
          },
          "execution_count": 54,
          "metadata": {},
          "output_type": "execute_result"
        }
      ],
      "source": [
        "parameters_to_prune_last_4"
      ]
    },
    {
      "cell_type": "markdown",
      "id": "cccc0771-ec2f-44c9-8493-3c425503d525",
      "metadata": {
        "id": "cccc0771-ec2f-44c9-8493-3c425503d525"
      },
      "source": [
        "TVM"
      ]
    },
    {
      "cell_type": "code",
      "execution_count": null,
      "id": "e2d4e2c8-81ba-40cf-9e8f-b895fcbf818e",
      "metadata": {
        "id": "e2d4e2c8-81ba-40cf-9e8f-b895fcbf818e",
        "outputId": "43bc78bd-6fac-4f3a-c700-ff0234e9b12f"
      },
      "outputs": [
        {
          "ename": "OSError",
          "evalue": "[WinError 1114] A dynamic link library (DLL) initialization routine failed",
          "output_type": "error",
          "traceback": [
            "\u001b[1;31m---------------------------------------------------------------------------\u001b[0m",
            "\u001b[1;31mOSError\u001b[0m                                   Traceback (most recent call last)",
            "Cell \u001b[1;32mIn[94], line 1\u001b[0m\n\u001b[1;32m----> 1\u001b[0m \u001b[38;5;28;01mimport\u001b[39;00m \u001b[38;5;21;01mtvm\u001b[39;00m\n\u001b[0;32m      2\u001b[0m \u001b[38;5;28;01mfrom\u001b[39;00m \u001b[38;5;21;01mtvm\u001b[39;00m\u001b[38;5;21;01m.\u001b[39;00m\u001b[38;5;21;01mrelax\u001b[39;00m\u001b[38;5;21;01m.\u001b[39;00m\u001b[38;5;21;01mfrontend\u001b[39;00m\u001b[38;5;21;01m.\u001b[39;00m\u001b[38;5;21;01mtorch\u001b[39;00m \u001b[38;5;28;01mimport\u001b[39;00m from_exported_program\n\u001b[0;32m      3\u001b[0m \u001b[38;5;28;01mimport\u001b[39;00m \u001b[38;5;21;01mtorch\u001b[39;00m\n",
            "File \u001b[1;32m~\\anaconda3\\envs\\pytorch\\Lib\\site-packages\\tvm\\__init__.py:26\u001b[0m\n\u001b[0;32m     22\u001b[0m \u001b[38;5;28;01mimport\u001b[39;00m \u001b[38;5;21;01mtraceback\u001b[39;00m\n\u001b[0;32m     24\u001b[0m \u001b[38;5;66;03m# top-level alias\u001b[39;00m\n\u001b[0;32m     25\u001b[0m \u001b[38;5;66;03m# tvm._ffi\u001b[39;00m\n\u001b[1;32m---> 26\u001b[0m \u001b[38;5;28;01mfrom\u001b[39;00m \u001b[38;5;21;01m.\u001b[39;00m\u001b[38;5;21;01m_ffi\u001b[39;00m\u001b[38;5;21;01m.\u001b[39;00m\u001b[38;5;21;01mbase\u001b[39;00m \u001b[38;5;28;01mimport\u001b[39;00m TVMError, __version__, _RUNTIME_ONLY\n\u001b[0;32m     28\u001b[0m \u001b[38;5;28;01mfrom\u001b[39;00m \u001b[38;5;21;01m.\u001b[39;00m\u001b[38;5;21;01m_ffi\u001b[39;00m\u001b[38;5;21;01m.\u001b[39;00m\u001b[38;5;21;01mruntime_ctypes\u001b[39;00m \u001b[38;5;28;01mimport\u001b[39;00m DataTypeCode, DataType\n\u001b[0;32m     29\u001b[0m \u001b[38;5;28;01mfrom\u001b[39;00m \u001b[38;5;21;01m.\u001b[39;00m\u001b[38;5;21;01m_ffi\u001b[39;00m \u001b[38;5;28;01mimport\u001b[39;00m register_object, register_func, register_extension, get_global_func\n",
            "File \u001b[1;32m~\\anaconda3\\envs\\pytorch\\Lib\\site-packages\\tvm\\_ffi\\__init__.py:28\u001b[0m\n\u001b[0;32m     17\u001b[0m \u001b[38;5;124;03m\"\"\"C interfacing code.\u001b[39;00m\n\u001b[0;32m     18\u001b[0m \n\u001b[0;32m     19\u001b[0m \u001b[38;5;124;03mThis namespace contains everything that interacts with C code.\u001b[39;00m\n\u001b[1;32m   (...)\u001b[0m\n\u001b[0;32m     25\u001b[0m \u001b[38;5;124;03mand have a ctypes fallback implementation.\u001b[39;00m\n\u001b[0;32m     26\u001b[0m \u001b[38;5;124;03m\"\"\"\u001b[39;00m\n\u001b[0;32m     27\u001b[0m \u001b[38;5;28;01mfrom\u001b[39;00m \u001b[38;5;21;01m.\u001b[39;00m \u001b[38;5;28;01mimport\u001b[39;00m _pyversion\n\u001b[1;32m---> 28\u001b[0m \u001b[38;5;28;01mfrom\u001b[39;00m \u001b[38;5;21;01m.\u001b[39;00m\u001b[38;5;21;01mbase\u001b[39;00m \u001b[38;5;28;01mimport\u001b[39;00m register_error\n\u001b[0;32m     29\u001b[0m \u001b[38;5;28;01mfrom\u001b[39;00m \u001b[38;5;21;01m.\u001b[39;00m\u001b[38;5;21;01mregistry\u001b[39;00m \u001b[38;5;28;01mimport\u001b[39;00m register_object, register_func, register_extension\n\u001b[0;32m     30\u001b[0m \u001b[38;5;28;01mfrom\u001b[39;00m \u001b[38;5;21;01m.\u001b[39;00m\u001b[38;5;21;01mregistry\u001b[39;00m \u001b[38;5;28;01mimport\u001b[39;00m _init_api, get_global_func, get_object_type_index\n",
            "File \u001b[1;32m~\\anaconda3\\envs\\pytorch\\Lib\\site-packages\\tvm\\_ffi\\base.py:78\u001b[0m\n\u001b[0;32m     76\u001b[0m __version__ \u001b[38;5;241m=\u001b[39m libinfo\u001b[38;5;241m.\u001b[39m__version__\n\u001b[0;32m     77\u001b[0m \u001b[38;5;66;03m# library instance\u001b[39;00m\n\u001b[1;32m---> 78\u001b[0m _LIB, _LIB_NAME \u001b[38;5;241m=\u001b[39m _load_lib()\n\u001b[0;32m     80\u001b[0m \u001b[38;5;66;03m# Whether we are runtime only\u001b[39;00m\n\u001b[0;32m     81\u001b[0m _RUNTIME_ONLY \u001b[38;5;241m=\u001b[39m \u001b[38;5;124m\"\u001b[39m\u001b[38;5;124mruntime\u001b[39m\u001b[38;5;124m\"\u001b[39m \u001b[38;5;129;01min\u001b[39;00m _LIB_NAME\n",
            "File \u001b[1;32m~\\anaconda3\\envs\\pytorch\\Lib\\site-packages\\tvm\\_ffi\\base.py:64\u001b[0m, in \u001b[0;36m_load_lib\u001b[1;34m()\u001b[0m\n\u001b[0;32m     62\u001b[0m     \u001b[38;5;28;01mfor\u001b[39;00m path \u001b[38;5;129;01min\u001b[39;00m libinfo\u001b[38;5;241m.\u001b[39mget_dll_directories():\n\u001b[0;32m     63\u001b[0m         os\u001b[38;5;241m.\u001b[39madd_dll_directory(path)\n\u001b[1;32m---> 64\u001b[0m lib \u001b[38;5;241m=\u001b[39m ctypes\u001b[38;5;241m.\u001b[39mCDLL(lib_path[\u001b[38;5;241m0\u001b[39m], ctypes\u001b[38;5;241m.\u001b[39mRTLD_GLOBAL)\n\u001b[0;32m     65\u001b[0m lib\u001b[38;5;241m.\u001b[39mTVMGetLastError\u001b[38;5;241m.\u001b[39mrestype \u001b[38;5;241m=\u001b[39m ctypes\u001b[38;5;241m.\u001b[39mc_char_p\n\u001b[0;32m     66\u001b[0m \u001b[38;5;28;01mreturn\u001b[39;00m lib, os\u001b[38;5;241m.\u001b[39mpath\u001b[38;5;241m.\u001b[39mbasename(lib_path[\u001b[38;5;241m0\u001b[39m])\n",
            "File \u001b[1;32m~\\anaconda3\\envs\\pytorch\\Lib\\ctypes\\__init__.py:376\u001b[0m, in \u001b[0;36mCDLL.__init__\u001b[1;34m(self, name, mode, handle, use_errno, use_last_error, winmode)\u001b[0m\n\u001b[0;32m    373\u001b[0m \u001b[38;5;28mself\u001b[39m\u001b[38;5;241m.\u001b[39m_FuncPtr \u001b[38;5;241m=\u001b[39m _FuncPtr\n\u001b[0;32m    375\u001b[0m \u001b[38;5;28;01mif\u001b[39;00m handle \u001b[38;5;129;01mis\u001b[39;00m \u001b[38;5;28;01mNone\u001b[39;00m:\n\u001b[1;32m--> 376\u001b[0m     \u001b[38;5;28mself\u001b[39m\u001b[38;5;241m.\u001b[39m_handle \u001b[38;5;241m=\u001b[39m _dlopen(\u001b[38;5;28mself\u001b[39m\u001b[38;5;241m.\u001b[39m_name, mode)\n\u001b[0;32m    377\u001b[0m \u001b[38;5;28;01melse\u001b[39;00m:\n\u001b[0;32m    378\u001b[0m     \u001b[38;5;28mself\u001b[39m\u001b[38;5;241m.\u001b[39m_handle \u001b[38;5;241m=\u001b[39m handle\n",
            "\u001b[1;31mOSError\u001b[0m: [WinError 1114] A dynamic link library (DLL) initialization routine failed"
          ]
        }
      ],
      "source": [
        "import tvm\n",
        "from tvm.relax.frontend.torch import from_exported_program\n",
        "import torch\n",
        "from torch.export import export"
      ]
    },
    {
      "cell_type": "code",
      "execution_count": null,
      "id": "f4353a3b-3625-40a7-a3e6-bbf2359fc937",
      "metadata": {
        "id": "f4353a3b-3625-40a7-a3e6-bbf2359fc937"
      },
      "outputs": [],
      "source": []
    }
  ],
  "metadata": {
    "kernelspec": {
      "display_name": "Python 3",
      "name": "python3"
    },
    "language_info": {
      "codemirror_mode": {
        "name": "ipython",
        "version": 3
      },
      "file_extension": ".py",
      "mimetype": "text/x-python",
      "name": "python",
      "nbconvert_exporter": "python",
      "pygments_lexer": "ipython3",
      "version": "3.11.9"
    },
    "colab": {
      "provenance": [],
      "gpuType": "T4"
    },
    "accelerator": "GPU"
  },
  "nbformat": 4,
  "nbformat_minor": 5
}