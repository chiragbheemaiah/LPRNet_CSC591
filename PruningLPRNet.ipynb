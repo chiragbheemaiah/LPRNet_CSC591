{
  "cells": [
    {
      "cell_type": "code",
      "execution_count": 1,
      "id": "k66W3IcX4Kdt",
      "metadata": {
        "colab": {
          "base_uri": "https://localhost:8080/"
        },
        "id": "k66W3IcX4Kdt",
        "outputId": "6bcd067f-2392-41b5-b179-cf5bd49f2355"
      },
      "outputs": [
        {
          "output_type": "stream",
          "name": "stdout",
          "text": [
            "fatal: destination path 'LPRNet_CSC591' already exists and is not an empty directory.\n"
          ]
        }
      ],
      "source": [
        "! git clone https://github.com/chiragbheemaiah/LPRNet_CSC591.git"
      ]
    },
    {
      "cell_type": "code",
      "execution_count": 2,
      "id": "YaZ7OkqN4SWG",
      "metadata": {
        "colab": {
          "base_uri": "https://localhost:8080/"
        },
        "id": "YaZ7OkqN4SWG",
        "outputId": "f42536ed-59aa-4f22-92f2-353f2e7be9b5"
      },
      "outputs": [
        {
          "output_type": "stream",
          "name": "stdout",
          "text": [
            "/content/LPRNet_CSC591\n"
          ]
        }
      ],
      "source": [
        " cd LPRNet_CSC591/"
      ]
    },
    {
      "cell_type": "code",
      "execution_count": 3,
      "id": "ch-apMFF5jFt",
      "metadata": {
        "colab": {
          "base_uri": "https://localhost:8080/"
        },
        "id": "ch-apMFF5jFt",
        "outputId": "7f81bd76-6fdc-43aa-e7f6-a06c4ffbe656"
      },
      "outputs": [
        {
          "output_type": "stream",
          "name": "stdout",
          "text": [
            "Successful to build network!\n",
            "/content/LPRNet_CSC591/test_LPRNet.py:65: FutureWarning: You are using `torch.load` with `weights_only=False` (the current default value), which uses the default pickle module implicitly. It is possible to construct malicious pickle data which will execute arbitrary code during unpickling (See https://github.com/pytorch/pytorch/blob/main/SECURITY.md#untrusted-models for more details). In a future release, the default value for `weights_only` will be flipped to `True`. This limits the functions that could be executed during unpickling. Arbitrary objects will no longer be allowed to be loaded via this mode unless they are explicitly allowlisted by the user via `torch.serialization.add_safe_globals`. We recommend you start setting `weights_only=True` for any use case where you don't have full control of the loaded file. Please open an issue on GitHub for any issues related to this experimental feature.\n",
            "  lprnet.load_state_dict(torch.load(args.pretrained_model, map_location=torch.device('cpu')))\n",
            "load pretrained model successful!\n",
            "/usr/local/lib/python3.10/dist-packages/torch/utils/data/dataloader.py:617: UserWarning: This DataLoader will create 8 worker processes in total. Our suggested max number of worker in current system is 2, which is smaller than what this DataLoader is going to create. Please be aware that excessive worker creation might get DataLoader running slow or even freeze, lower the worker number to avoid potential slowness/freeze if necessary.\n",
            "  warnings.warn(\n",
            "[Info] Test Accuracy: 0.901 [901:58:41:1000]\n",
            "[Info] Test Speed: 0.1855740222930908s 1/1000]\n"
          ]
        }
      ],
      "source": [
        "# Base Model\n",
        "! python test_LPRNet.py"
      ]
    },
    {
      "cell_type": "code",
      "execution_count": 4,
      "id": "c70cb0c6-5160-4201-99f4-a39d9c5e1994",
      "metadata": {
        "id": "c70cb0c6-5160-4201-99f4-a39d9c5e1994"
      },
      "outputs": [],
      "source": [
        "import torch.nn as nn\n",
        "import torch\n",
        "\n",
        "class small_basic_block(nn.Module):\n",
        "    def __init__(self, ch_in, ch_out):\n",
        "        super(small_basic_block, self).__init__()\n",
        "        self.block = nn.Sequential(\n",
        "            nn.Conv2d(ch_in, ch_out // 4, kernel_size=1),\n",
        "            nn.ReLU(),\n",
        "            nn.Conv2d(ch_out // 4, ch_out // 4, kernel_size=(3, 1), padding=(1, 0)),\n",
        "            nn.ReLU(),\n",
        "            nn.Conv2d(ch_out // 4, ch_out // 4, kernel_size=(1, 3), padding=(0, 1)),\n",
        "            nn.ReLU(),\n",
        "            nn.Conv2d(ch_out // 4, ch_out, kernel_size=1),\n",
        "        )\n",
        "    def forward(self, x):\n",
        "        return self.block(x)\n",
        "\n",
        "class LPRNet(nn.Module):\n",
        "    def __init__(self, lpr_max_len, phase, class_num, dropout_rate):\n",
        "        super(LPRNet, self).__init__()\n",
        "        self.phase = phase\n",
        "        self.lpr_max_len = lpr_max_len\n",
        "        self.class_num = class_num\n",
        "        self.backbone = nn.Sequential(\n",
        "            nn.Conv2d(in_channels=3, out_channels=64, kernel_size=3, stride=1), # 0\n",
        "            nn.BatchNorm2d(num_features=64),\n",
        "            nn.ReLU(),  # 2\n",
        "            nn.MaxPool3d(kernel_size=(1, 3, 3), stride=(1, 1, 1)),\n",
        "            small_basic_block(ch_in=64, ch_out=128),    # *** 4 ***\n",
        "            nn.BatchNorm2d(num_features=128),\n",
        "            nn.ReLU(),  # 6\n",
        "            nn.MaxPool3d(kernel_size=(1, 3, 3), stride=(2, 1, 2)),\n",
        "            small_basic_block(ch_in=64, ch_out=256),   # 8\n",
        "            nn.BatchNorm2d(num_features=256),\n",
        "            nn.ReLU(),  # 10\n",
        "            small_basic_block(ch_in=256, ch_out=256),   # *** 11 ***\n",
        "            nn.BatchNorm2d(num_features=256),   # 12\n",
        "            nn.ReLU(),\n",
        "            nn.MaxPool3d(kernel_size=(1, 3, 3), stride=(4, 1, 2)),  # 14\n",
        "            nn.Dropout(dropout_rate),\n",
        "            nn.Conv2d(in_channels=64, out_channels=256, kernel_size=(1, 4), stride=1),  # 16\n",
        "            nn.BatchNorm2d(num_features=256),\n",
        "            nn.ReLU(),  # 18\n",
        "            nn.Dropout(dropout_rate),\n",
        "            nn.Conv2d(in_channels=256, out_channels=class_num, kernel_size=(13, 1), stride=1), # 20\n",
        "            nn.BatchNorm2d(num_features=class_num),\n",
        "            nn.ReLU(),  # *** 22 ***\n",
        "        )\n",
        "        self.container = nn.Sequential(\n",
        "            nn.Conv2d(in_channels=448+self.class_num, out_channels=self.class_num, kernel_size=(1, 1), stride=(1, 1)),\n",
        "            # nn.BatchNorm2d(num_features=self.class_num),\n",
        "            # nn.ReLU(),\n",
        "            # nn.Conv2d(in_channels=self.class_num, out_channels=self.lpr_max_len+1, kernel_size=3, stride=2),\n",
        "            # nn.ReLU(),\n",
        "        )\n",
        "\n",
        "    def forward(self, x):\n",
        "        keep_features = list()\n",
        "        for i, layer in enumerate(self.backbone.children()):\n",
        "            x = layer(x)\n",
        "            if i in [2, 6, 13, 22]: # [2, 4, 8, 11, 22]\n",
        "                keep_features.append(x)\n",
        "\n",
        "        global_context = list()\n",
        "        for i, f in enumerate(keep_features):\n",
        "            if i in [0, 1]:\n",
        "                f = nn.AvgPool2d(kernel_size=5, stride=5)(f)\n",
        "            if i in [2]:\n",
        "                f = nn.AvgPool2d(kernel_size=(4, 10), stride=(4, 2))(f)\n",
        "            f_pow = torch.pow(f, 2)\n",
        "            f_mean = torch.mean(f_pow)\n",
        "            f = torch.div(f, f_mean)\n",
        "            global_context.append(f)\n",
        "\n",
        "        x = torch.cat(global_context, 1)\n",
        "        x = self.container(x)\n",
        "        logits = torch.mean(x, dim=2)\n",
        "\n",
        "        return logits\n",
        "\n",
        "def build_lprnet(lpr_max_len=8, phase=False, class_num=66, dropout_rate=0.5):\n",
        "\n",
        "    Net = LPRNet(lpr_max_len, phase, class_num, dropout_rate)\n",
        "\n",
        "    if phase == \"train\":\n",
        "        return Net.train()\n",
        "    else:\n",
        "        return Net.eval()"
      ]
    },
    {
      "cell_type": "code",
      "execution_count": 5,
      "id": "3521eef2-af8d-4935-aa78-edbfa94322ef",
      "metadata": {
        "colab": {
          "base_uri": "https://localhost:8080/"
        },
        "id": "3521eef2-af8d-4935-aa78-edbfa94322ef",
        "outputId": "311c2ab9-f1dd-4818-b3b4-ae3f00607df8"
      },
      "outputs": [
        {
          "output_type": "stream",
          "name": "stderr",
          "text": [
            "<ipython-input-5-10de8b58ca99>:5: FutureWarning: You are using `torch.load` with `weights_only=False` (the current default value), which uses the default pickle module implicitly. It is possible to construct malicious pickle data which will execute arbitrary code during unpickling (See https://github.com/pytorch/pytorch/blob/main/SECURITY.md#untrusted-models for more details). In a future release, the default value for `weights_only` will be flipped to `True`. This limits the functions that could be executed during unpickling. Arbitrary objects will no longer be allowed to be loaded via this mode unless they are explicitly allowlisted by the user via `torch.serialization.add_safe_globals`. We recommend you start setting `weights_only=True` for any use case where you don't have full control of the loaded file. Please open an issue on GitHub for any issues related to this experimental feature.\n",
            "  state_dict = torch.load(weight_path, map_location=torch.device('cpu'))\n"
          ]
        }
      ],
      "source": [
        "def load_model(weight_path, lpr_max_len=7, phase='test', class_num=68, dropout_rate=0.5):\n",
        "\n",
        "    model = LPRNet(lpr_max_len, phase, class_num, dropout_rate)\n",
        "\n",
        "    state_dict = torch.load(weight_path, map_location=torch.device('cpu'))\n",
        "    model.load_state_dict(state_dict)\n",
        "\n",
        "    return model\n",
        "\n",
        "model = load_model(\"./weights/Final_LPRNet_model.pth\")"
      ]
    },
    {
      "cell_type": "code",
      "execution_count": 6,
      "id": "956585a7-f17a-418e-84ad-be1355167990",
      "metadata": {
        "colab": {
          "base_uri": "https://localhost:8080/"
        },
        "id": "956585a7-f17a-418e-84ad-be1355167990",
        "outputId": "b5820d28-ae36-4789-96c2-29235272320f"
      },
      "outputs": [
        {
          "output_type": "stream",
          "name": "stdout",
          "text": [
            "Weights of the first Convolutional Layer:\n",
            "torch.Size([64, 3, 3, 3])\n",
            "\n",
            "Weights of the first small_basic_block:\n",
            "torch.Size([32, 64, 1, 1])\n"
          ]
        }
      ],
      "source": [
        "print(\"Weights of the first Convolutional Layer:\")\n",
        "print(model.backbone[0].weight.data.shape)\n",
        "\n",
        "print(\"\\nWeights of the first small_basic_block:\")\n",
        "first_basic_block = model.backbone[4].block[0]\n",
        "print(first_basic_block.weight.data.shape)"
      ]
    },
    {
      "cell_type": "code",
      "execution_count": 7,
      "id": "c9b9dba9-aca0-4799-aebc-aaa4341cf0eb",
      "metadata": {
        "id": "c9b9dba9-aca0-4799-aebc-aaa4341cf0eb"
      },
      "outputs": [],
      "source": [
        "import torch\n",
        "from torch import nn\n",
        "import torch.nn.utils.prune as prune\n",
        "import torch.nn.functional as F"
      ]
    },
    {
      "cell_type": "code",
      "execution_count": 8,
      "id": "261d495d-42e9-4b17-aa5b-7de317aa18ab",
      "metadata": {
        "id": "261d495d-42e9-4b17-aa5b-7de317aa18ab"
      },
      "outputs": [],
      "source": [
        "module = model.backbone\n",
        "# print(list(module.named_parameters()))"
      ]
    },
    {
      "cell_type": "code",
      "execution_count": 9,
      "id": "8b8b07a1-d70e-4702-a804-c7563d82c4a4",
      "metadata": {
        "id": "8b8b07a1-d70e-4702-a804-c7563d82c4a4",
        "outputId": "4782f4c9-3ad2-4aef-9e06-015863ccad08",
        "colab": {
          "base_uri": "https://localhost:8080/"
        }
      },
      "outputs": [
        {
          "output_type": "stream",
          "name": "stdout",
          "text": [
            "odict_keys(['backbone.0.weight', 'backbone.0.bias', 'backbone.1.weight', 'backbone.1.bias', 'backbone.1.running_mean', 'backbone.1.running_var', 'backbone.1.num_batches_tracked', 'backbone.4.block.0.weight', 'backbone.4.block.0.bias', 'backbone.4.block.2.weight', 'backbone.4.block.2.bias', 'backbone.4.block.4.weight', 'backbone.4.block.4.bias', 'backbone.4.block.6.weight', 'backbone.4.block.6.bias', 'backbone.5.weight', 'backbone.5.bias', 'backbone.5.running_mean', 'backbone.5.running_var', 'backbone.5.num_batches_tracked', 'backbone.8.block.0.weight', 'backbone.8.block.0.bias', 'backbone.8.block.2.weight', 'backbone.8.block.2.bias', 'backbone.8.block.4.weight', 'backbone.8.block.4.bias', 'backbone.8.block.6.weight', 'backbone.8.block.6.bias', 'backbone.9.weight', 'backbone.9.bias', 'backbone.9.running_mean', 'backbone.9.running_var', 'backbone.9.num_batches_tracked', 'backbone.11.block.0.weight', 'backbone.11.block.0.bias', 'backbone.11.block.2.weight', 'backbone.11.block.2.bias', 'backbone.11.block.4.weight', 'backbone.11.block.4.bias', 'backbone.11.block.6.weight', 'backbone.11.block.6.bias', 'backbone.12.weight', 'backbone.12.bias', 'backbone.12.running_mean', 'backbone.12.running_var', 'backbone.12.num_batches_tracked', 'backbone.16.weight', 'backbone.16.bias', 'backbone.17.weight', 'backbone.17.bias', 'backbone.17.running_mean', 'backbone.17.running_var', 'backbone.17.num_batches_tracked', 'backbone.20.weight', 'backbone.20.bias', 'backbone.21.weight', 'backbone.21.bias', 'backbone.21.running_mean', 'backbone.21.running_var', 'backbone.21.num_batches_tracked', 'container.0.weight', 'container.0.bias'])\n"
          ]
        }
      ],
      "source": [
        "print(model.state_dict().keys())"
      ]
    },
    {
      "cell_type": "code",
      "execution_count": 10,
      "id": "fe753a2d-54a8-4035-9ac1-95ec3539a35d",
      "metadata": {
        "id": "fe753a2d-54a8-4035-9ac1-95ec3539a35d"
      },
      "outputs": [],
      "source": [
        "parameters_to_prune = []\n",
        "\n",
        "for name, module in model.named_modules():\n",
        "    if isinstance(module, nn.Conv2d):\n",
        "        parameters_to_prune.append((module, 'weight'))"
      ]
    },
    {
      "cell_type": "code",
      "execution_count": 11,
      "id": "3b897ebc-6d8b-4501-a0c9-694c4eb49765",
      "metadata": {
        "colab": {
          "base_uri": "https://localhost:8080/"
        },
        "id": "3b897ebc-6d8b-4501-a0c9-694c4eb49765",
        "outputId": "726a6040-2d9d-485c-ecb3-3db22364cd52"
      },
      "outputs": [
        {
          "output_type": "execute_result",
          "data": {
            "text/plain": [
              "[(Conv2d(3, 64, kernel_size=(3, 3), stride=(1, 1)), 'weight'),\n",
              " (Conv2d(64, 32, kernel_size=(1, 1), stride=(1, 1)), 'weight'),\n",
              " (Conv2d(32, 32, kernel_size=(3, 1), stride=(1, 1), padding=(1, 0)), 'weight'),\n",
              " (Conv2d(32, 32, kernel_size=(1, 3), stride=(1, 1), padding=(0, 1)), 'weight'),\n",
              " (Conv2d(32, 128, kernel_size=(1, 1), stride=(1, 1)), 'weight'),\n",
              " (Conv2d(64, 64, kernel_size=(1, 1), stride=(1, 1)), 'weight'),\n",
              " (Conv2d(64, 64, kernel_size=(3, 1), stride=(1, 1), padding=(1, 0)), 'weight'),\n",
              " (Conv2d(64, 64, kernel_size=(1, 3), stride=(1, 1), padding=(0, 1)), 'weight'),\n",
              " (Conv2d(64, 256, kernel_size=(1, 1), stride=(1, 1)), 'weight'),\n",
              " (Conv2d(256, 64, kernel_size=(1, 1), stride=(1, 1)), 'weight'),\n",
              " (Conv2d(64, 64, kernel_size=(3, 1), stride=(1, 1), padding=(1, 0)), 'weight'),\n",
              " (Conv2d(64, 64, kernel_size=(1, 3), stride=(1, 1), padding=(0, 1)), 'weight'),\n",
              " (Conv2d(64, 256, kernel_size=(1, 1), stride=(1, 1)), 'weight'),\n",
              " (Conv2d(64, 256, kernel_size=(1, 4), stride=(1, 1)), 'weight'),\n",
              " (Conv2d(256, 68, kernel_size=(13, 1), stride=(1, 1)), 'weight'),\n",
              " (Conv2d(516, 68, kernel_size=(1, 1), stride=(1, 1)), 'weight')]"
            ]
          },
          "metadata": {},
          "execution_count": 11
        }
      ],
      "source": [
        "parameters_to_prune"
      ]
    },
    {
      "cell_type": "code",
      "execution_count": 12,
      "id": "b78683a3-f3d0-46c8-b278-c3b69eaffa4f",
      "metadata": {
        "id": "b78683a3-f3d0-46c8-b278-c3b69eaffa4f"
      },
      "outputs": [],
      "source": [
        "prune.global_unstructured(\n",
        "    parameters_to_prune,\n",
        "    pruning_method=prune.L1Unstructured,\n",
        "    amount=0.9,\n",
        ")"
      ]
    },
    {
      "cell_type": "code",
      "execution_count": 13,
      "id": "e95850ff-56a3-49c9-ba60-8827694efccd",
      "metadata": {
        "id": "e95850ff-56a3-49c9-ba60-8827694efccd"
      },
      "outputs": [],
      "source": [
        "for module, _ in parameters_to_prune:\n",
        "    prune.remove(module, 'weight')\n",
        "\n",
        "torch.save(model.state_dict(), './weights/pruned_model_weights_trial2.pth')"
      ]
    },
    {
      "cell_type": "code",
      "execution_count": 14,
      "id": "8a5662bd-0fd2-4e74-920f-8b8e420b7753",
      "metadata": {
        "id": "8a5662bd-0fd2-4e74-920f-8b8e420b7753"
      },
      "outputs": [],
      "source": [
        "parameters_to_prune_first_4 = []\n",
        "parameters_to_prune_next_8 = []\n",
        "parameters_to_prune_last_4 = []\n",
        "\n",
        "conv2d_count = 0\n",
        "for name, module in model.named_modules():\n",
        "    if isinstance(module, nn.Conv2d):\n",
        "        if conv2d_count < 4:\n",
        "            parameters_to_prune_first_4.append((module, 'weight'))\n",
        "        elif conv2d_count < 12:\n",
        "            parameters_to_prune_next_8.append((module, 'weight'))\n",
        "        else:\n",
        "            parameters_to_prune_last_4.append((module, 'weight'))\n",
        "\n",
        "        conv2d_count += 1\n",
        "\n",
        "prune.global_unstructured(\n",
        "    parameters_to_prune_first_4,\n",
        "    pruning_method=prune.L1Unstructured,\n",
        "    amount=0.2,  # 20% pruning for first 4 layers\n",
        ")\n",
        "\n",
        "prune.global_unstructured(\n",
        "    parameters_to_prune_next_8,\n",
        "    pruning_method=prune.L1Unstructured,\n",
        "    amount=0.9,  # 50% pruning for next 8 layers\n",
        ")\n",
        "\n",
        "prune.global_unstructured(\n",
        "    parameters_to_prune_last_4,\n",
        "    pruning_method=prune.L1Unstructured,\n",
        "    amount=0.9,  # 80% pruning for last 4 layers\n",
        ")"
      ]
    },
    {
      "cell_type": "code",
      "execution_count": 15,
      "id": "c242a1b5-c6d3-49d2-8075-1e9229f17b71",
      "metadata": {
        "id": "c242a1b5-c6d3-49d2-8075-1e9229f17b71"
      },
      "outputs": [],
      "source": [
        "for module, _ in parameters_to_prune_first_4:\n",
        "    prune.remove(module, 'weight')\n",
        "\n",
        "for module, _ in parameters_to_prune_next_8:\n",
        "    prune.remove(module, 'weight')\n",
        "\n",
        "for module, _ in parameters_to_prune_last_4:\n",
        "    prune.remove(module, 'weight')\n",
        "\n",
        "torch.save(model.state_dict(), './weights/pruned_model_weights_trial.pth')"
      ]
    },
    {
      "cell_type": "code",
      "execution_count": 16,
      "id": "70cfe2b8-57bb-415b-a95e-46e4bc85c0f4",
      "metadata": {
        "id": "70cfe2b8-57bb-415b-a95e-46e4bc85c0f4",
        "outputId": "aec08a68-27d0-49fd-9fdb-7895c2a04d29",
        "colab": {
          "base_uri": "https://localhost:8080/"
        }
      },
      "outputs": [
        {
          "output_type": "execute_result",
          "data": {
            "text/plain": [
              "[(Conv2d(3, 64, kernel_size=(3, 3), stride=(1, 1)), 'weight'),\n",
              " (Conv2d(64, 32, kernel_size=(1, 1), stride=(1, 1)), 'weight'),\n",
              " (Conv2d(32, 32, kernel_size=(3, 1), stride=(1, 1), padding=(1, 0)), 'weight'),\n",
              " (Conv2d(32, 32, kernel_size=(1, 3), stride=(1, 1), padding=(0, 1)), 'weight')]"
            ]
          },
          "metadata": {},
          "execution_count": 16
        }
      ],
      "source": [
        "parameters_to_prune_first_4"
      ]
    },
    {
      "cell_type": "code",
      "execution_count": 17,
      "id": "a50607f4-6363-4a9f-8778-f7137c3081d7",
      "metadata": {
        "id": "a50607f4-6363-4a9f-8778-f7137c3081d7",
        "outputId": "179282e5-d887-48c3-ad67-b30c2e5c5bec",
        "colab": {
          "base_uri": "https://localhost:8080/"
        }
      },
      "outputs": [
        {
          "output_type": "execute_result",
          "data": {
            "text/plain": [
              "[(Conv2d(32, 128, kernel_size=(1, 1), stride=(1, 1)), 'weight'),\n",
              " (Conv2d(64, 64, kernel_size=(1, 1), stride=(1, 1)), 'weight'),\n",
              " (Conv2d(64, 64, kernel_size=(3, 1), stride=(1, 1), padding=(1, 0)), 'weight'),\n",
              " (Conv2d(64, 64, kernel_size=(1, 3), stride=(1, 1), padding=(0, 1)), 'weight'),\n",
              " (Conv2d(64, 256, kernel_size=(1, 1), stride=(1, 1)), 'weight'),\n",
              " (Conv2d(256, 64, kernel_size=(1, 1), stride=(1, 1)), 'weight'),\n",
              " (Conv2d(64, 64, kernel_size=(3, 1), stride=(1, 1), padding=(1, 0)), 'weight'),\n",
              " (Conv2d(64, 64, kernel_size=(1, 3), stride=(1, 1), padding=(0, 1)), 'weight')]"
            ]
          },
          "metadata": {},
          "execution_count": 17
        }
      ],
      "source": [
        "parameters_to_prune_next_8"
      ]
    },
    {
      "cell_type": "code",
      "execution_count": 18,
      "id": "31c1d86f-7625-41bc-a0aa-640a7072cd67",
      "metadata": {
        "id": "31c1d86f-7625-41bc-a0aa-640a7072cd67",
        "outputId": "5ccc06c3-af5a-4511-f49c-cc17ca709f48",
        "colab": {
          "base_uri": "https://localhost:8080/"
        }
      },
      "outputs": [
        {
          "output_type": "execute_result",
          "data": {
            "text/plain": [
              "[(Conv2d(64, 256, kernel_size=(1, 1), stride=(1, 1)), 'weight'),\n",
              " (Conv2d(64, 256, kernel_size=(1, 4), stride=(1, 1)), 'weight'),\n",
              " (Conv2d(256, 68, kernel_size=(13, 1), stride=(1, 1)), 'weight'),\n",
              " (Conv2d(516, 68, kernel_size=(1, 1), stride=(1, 1)), 'weight')]"
            ]
          },
          "metadata": {},
          "execution_count": 18
        }
      ],
      "source": [
        "parameters_to_prune_last_4"
      ]
    },
    {
      "cell_type": "code",
      "execution_count": 19,
      "metadata": {
        "colab": {
          "base_uri": "https://localhost:8080/"
        },
        "id": "3SX8efej5rNl",
        "outputId": "82be657e-6d74-4578-c6e8-700d78fff444"
      },
      "outputs": [
        {
          "output_type": "stream",
          "name": "stdout",
          "text": [
            "Successful to build network!\n",
            "/content/LPRNet_CSC591/test_LPRNet.py:65: FutureWarning: You are using `torch.load` with `weights_only=False` (the current default value), which uses the default pickle module implicitly. It is possible to construct malicious pickle data which will execute arbitrary code during unpickling (See https://github.com/pytorch/pytorch/blob/main/SECURITY.md#untrusted-models for more details). In a future release, the default value for `weights_only` will be flipped to `True`. This limits the functions that could be executed during unpickling. Arbitrary objects will no longer be allowed to be loaded via this mode unless they are explicitly allowlisted by the user via `torch.serialization.add_safe_globals`. We recommend you start setting `weights_only=True` for any use case where you don't have full control of the loaded file. Please open an issue on GitHub for any issues related to this experimental feature.\n",
            "  lprnet.load_state_dict(torch.load(args.pretrained_model, map_location=torch.device('cpu')))\n",
            "load pretrained model successful!\n",
            "/usr/local/lib/python3.10/dist-packages/torch/utils/data/dataloader.py:617: UserWarning: This DataLoader will create 8 worker processes in total. Our suggested max number of worker in current system is 2, which is smaller than what this DataLoader is going to create. Please be aware that excessive worker creation might get DataLoader running slow or even freeze, lower the worker number to avoid potential slowness/freeze if necessary.\n",
            "  warnings.warn(\n",
            "[Info] Test Accuracy: 0.896 [896:67:37:1000]\n",
            "[Info] Test Speed: 0.029694239616394044s 1/1000]\n"
          ]
        }
      ],
      "source": [
        "# Normal Pruning\n",
        "! python test_LPRNet.py --pretrained_model ./weights/pruned_model_weights_trial2.pth"
      ],
      "id": "3SX8efej5rNl"
    },
    {
      "cell_type": "code",
      "execution_count": 20,
      "metadata": {
        "colab": {
          "base_uri": "https://localhost:8080/"
        },
        "id": "O3TiUaCL5upf",
        "outputId": "1946478f-8c94-4f4e-b26e-94e189683e82"
      },
      "outputs": [
        {
          "output_type": "stream",
          "name": "stdout",
          "text": [
            "Successful to build network!\n",
            "/content/LPRNet_CSC591/test_LPRNet.py:65: FutureWarning: You are using `torch.load` with `weights_only=False` (the current default value), which uses the default pickle module implicitly. It is possible to construct malicious pickle data which will execute arbitrary code during unpickling (See https://github.com/pytorch/pytorch/blob/main/SECURITY.md#untrusted-models for more details). In a future release, the default value for `weights_only` will be flipped to `True`. This limits the functions that could be executed during unpickling. Arbitrary objects will no longer be allowed to be loaded via this mode unless they are explicitly allowlisted by the user via `torch.serialization.add_safe_globals`. We recommend you start setting `weights_only=True` for any use case where you don't have full control of the loaded file. Please open an issue on GitHub for any issues related to this experimental feature.\n",
            "  lprnet.load_state_dict(torch.load(args.pretrained_model, map_location=torch.device('cpu')))\n",
            "load pretrained model successful!\n",
            "/usr/local/lib/python3.10/dist-packages/torch/utils/data/dataloader.py:617: UserWarning: This DataLoader will create 8 worker processes in total. Our suggested max number of worker in current system is 2, which is smaller than what this DataLoader is going to create. Please be aware that excessive worker creation might get DataLoader running slow or even freeze, lower the worker number to avoid potential slowness/freeze if necessary.\n",
            "  warnings.warn(\n",
            "[Info] Test Accuracy: 0.895 [895:70:35:1000]\n",
            "[Info] Test Speed: 0.030508182287216187s 1/1000]\n"
          ]
        }
      ],
      "source": [
        "# Pro Pruning\n",
        "! python test_LPRNet.py --pretrained_model ./weights/pruned_model_weights_trial.pth"
      ],
      "id": "O3TiUaCL5upf"
    },
    {
      "cell_type": "code",
      "execution_count": 20,
      "id": "f4353a3b-3625-40a7-a3e6-bbf2359fc937",
      "metadata": {
        "id": "f4353a3b-3625-40a7-a3e6-bbf2359fc937"
      },
      "outputs": [],
      "source": []
    }
  ],
  "metadata": {
    "colab": {
      "provenance": []
    },
    "kernelspec": {
      "display_name": "Python 3",
      "name": "python3"
    },
    "language_info": {
      "codemirror_mode": {
        "name": "ipython",
        "version": 3
      },
      "file_extension": ".py",
      "mimetype": "text/x-python",
      "name": "python",
      "nbconvert_exporter": "python",
      "pygments_lexer": "ipython3",
      "version": "3.11.9"
    }
  },
  "nbformat": 4,
  "nbformat_minor": 5
}