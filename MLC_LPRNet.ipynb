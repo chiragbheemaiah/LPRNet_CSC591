{
  "nbformat": 4,
  "nbformat_minor": 0,
  "metadata": {
    "colab": {
      "provenance": [],
      "collapsed_sections": [
        "y7VyRi_pk0o_"
      ],
      "toc_visible": true
    },
    "kernelspec": {
      "name": "python3",
      "display_name": "Python 3"
    },
    "language_info": {
      "name": "python"
    }
  },
  "cells": [
    {
      "cell_type": "markdown",
      "source": [
        "## Setup"
      ],
      "metadata": {
        "id": "eq51ApthmXAp"
      }
    },
    {
      "cell_type": "code",
      "source": [
        "!python3 -m  pip install mlc-ai-cpu -f https://mlc.ai/wheels"
      ],
      "metadata": {
        "colab": {
          "base_uri": "https://localhost:8080/"
        },
        "id": "tYS-TPdVO80L",
        "outputId": "4762c93a-c601-4d3d-841f-2e6151754eb8"
      },
      "execution_count": 1,
      "outputs": [
        {
          "output_type": "stream",
          "name": "stdout",
          "text": [
            "Looking in links: https://mlc.ai/wheels\n",
            "Collecting mlc-ai-cpu\n",
            "  Downloading https://github.com/mlc-ai/package/releases/download/v0.9.dev0/mlc_ai_cpu-0.17.2-cp310-cp310-manylinux_2_28_x86_64.whl (185.8 MB)\n",
            "\u001b[2K     \u001b[90m━━━━━━━━━━━━━━━━━━━━━━━━━━━━━━━━━━━━━━━━\u001b[0m \u001b[32m185.8/185.8 MB\u001b[0m \u001b[31m4.3 MB/s\u001b[0m eta \u001b[36m0:00:00\u001b[0m\n",

            "\u001b[?25hRequirement already satisfied: attrs in /usr/local/lib/python3.10/dist-packages (from mlc-ai-cpu) (24.2.0)\n",
            "Requirement already satisfied: cloudpickle in /usr/local/lib/python3.10/dist-packages (from mlc-ai-cpu) (3.1.0)\n",
            "Requirement already satisfied: decorator in /usr/local/lib/python3.10/dist-packages (from mlc-ai-cpu) (4.4.2)\n",
            "Requirement already satisfied: ml-dtypes in /usr/local/lib/python3.10/dist-packages (from mlc-ai-cpu) (0.4.1)\n",
            "Requirement already satisfied: numpy in /usr/local/lib/python3.10/dist-packages (from mlc-ai-cpu) (1.26.4)\n",
            "Requirement already satisfied: packaging in /usr/local/lib/python3.10/dist-packages (from mlc-ai-cpu) (24.2)\n",
            "Requirement already satisfied: psutil in /usr/local/lib/python3.10/dist-packages (from mlc-ai-cpu) (5.9.5)\n",
            "Requirement already satisfied: scipy in /usr/local/lib/python3.10/dist-packages (from mlc-ai-cpu) (1.13.1)\n",
            "Requirement already satisfied: tornado in /usr/local/lib/python3.10/dist-packages (from mlc-ai-cpu) (6.3.3)\n",
            "Requirement already satisfied: typing-extensions in /usr/local/lib/python3.10/dist-packages (from mlc-ai-cpu) (4.12.2)\n",
            "Installing collected packages: mlc-ai-cpu\n",
            "Successfully installed mlc-ai-cpu-0.17.2\n"
          ]
        }
      ]
    },
    {
      "cell_type": "code",
      "execution_count": 2,
      "metadata": {
        "colab": {
          "base_uri": "https://localhost:8080/"
        },
        "id": "0QPtwkVrnwWX",
        "outputId": "2db620aa-4bfd-47b3-a89b-0e72b87fa79d"
      },
      "outputs": [
        {
          "output_type": "stream",
          "name": "stdout",
          "text": [
            "Cloning into 'LPRNet_CSC591'...\n",
            "remote: Enumerating objects: 1099, done.\u001b[K\n",
            "remote: Counting objects: 100% (62/62), done.\u001b[K\n",
            "remote: Compressing objects: 100% (33/33), done.\u001b[K\n",
            "remote: Total 1099 (delta 39), reused 42 (delta 29), pack-reused 1037 (from 1)\u001b[K\n",
            "Receiving objects: 100% (1099/1099), 21.34 MiB | 19.37 MiB/s, done.\n",
            "Resolving deltas: 100% (49/49), done.\n"

          ]
        }
      ],
      "source": [
        "! git clone https://github.com/chiragbheemaiah/LPRNet_CSC591.git"
      ]
    },
    {
      "cell_type": "code",
      "source": [
        "cd LPRNet_CSC591"
      ],
      "metadata": {
        "colab": {
          "base_uri": "https://localhost:8080/"
        },
        "id": "U8pa3QARog1c",
        "outputId": "9f77c8f8-bcc6-4f0d-800e-f4fa120cf63d"

      },
      "execution_count": 3,
      "outputs": [
        {
          "output_type": "stream",
          "name": "stdout",
          "text": [
            "/content/LPRNet_CSC591\n"
          ]
        }
      ]
    },
    {
      "cell_type": "code",
      "source": [
        "import tvm\n",
        "import torch.nn as nn\n",
        "import torch"
      ],
      "metadata": {
        "id": "MH8egR-duw5Z"
      },
      "execution_count": 4,
      "outputs": []
    },
    {
      "cell_type": "markdown",
      "source": [
        "## Test Function"
      ],
      "metadata": {
        "id": "t6gjVOqMPZXM"
      }
    },
    {
      "cell_type": "code",
      "source": [
        "from data.load_data import CHARS, CHARS_DICT, LPRDataLoader\n",
        "from PIL import Image, ImageDraw, ImageFont\n",
        "from model.LPRNet import build_lprnet\n",
        "# import torch.backends.cudnn as cudnn\n",
        "from torch.autograd import Variable\n",
        "import torch.nn.functional as F\n",
        "from torch.utils.data import *\n",
        "from torch import optim\n",
        "import torch.nn as nn\n",
        "import numpy as np\n",
        "import argparse\n",
        "import torch\n",
        "import time\n",
        "import cv2\n",
        "import os\n",
        "\n",
        "def collate_fn(batch):\n",
        "    imgs = []\n",
        "    labels = []\n",
        "    lengths = []\n",
        "    for _, sample in enumerate(batch):\n",
        "        img, label, length = sample\n",
        "        imgs.append(torch.from_numpy(img))\n",
        "        labels.extend(label)\n",
        "        lengths.append(length)\n",
        "    labels = np.asarray(labels).flatten().astype(np.float32)\n",
        "\n",
        "    return (torch.stack(imgs, 0), torch.from_numpy(labels), lengths)\n",
        "\n",
        "def test(module):\n",
        "    test_img_dirs = os.path.expanduser(args.test_img_dirs)\n",
        "    test_dataset = LPRDataLoader(test_img_dirs.split(','), args.img_size, args.lpr_max_len)\n",
        "    Greedy_Decode_Eval(module, test_dataset, args)\n",
        "\n",
        "def Greedy_Decode_Eval(module, datasets, args):\n",
        "    # TestNet = Net.eval()\n",
        "    epoch_size = len(datasets) // args.test_batch_size\n",
        "    batch_iterator = iter(DataLoader(datasets, args.test_batch_size, shuffle=True, num_workers=args.num_workers, collate_fn=collate_fn))\n",
        "\n",
        "    Tp = 0\n",
        "    Tn_1 = 0\n",
        "    Tn_2 = 0\n",
        "    t1 = time.time()\n",
        "    for i in range(epoch_size):\n",
        "        # load train data\n",
        "        images, labels, lengths = next(batch_iterator)\n",
        "        start = 0\n",
        "        targets = []\n",
        "        for length in lengths:\n",
        "            label = labels[start:start+length]\n",
        "            targets.append(label)\n",
        "            start += length\n",
        "        targets = np.array([el.numpy() for el in targets])\n",
        "        imgs = images.numpy().copy()\n",
        "\n",
        "        if args.cuda:\n",
        "            images = Variable(images.cuda())\n",
        "        else:\n",
        "            images = Variable(images)\n",
        "\n",
        "        # forward\n",
        "        # prebs = Net(images)\n",
        "        # Set input and run\n",
        "        module.set_input(input_name, tvm.nd.array(images.numpy()))\n",
        "        module.run()\n",
        "\n",
        "        # Get output\n",
        "        tvm_output = module.get_output(0).asnumpy()\n",
        "        print(\"Output shape:\", tvm_output.shape)\n",
        "        prebs = tvm_output\n",
        "        # greedy decode\n",
        "        # prebs = prebs.cpu().detach().numpy()\n",
        "        preb_labels = list()\n",
        "        for i in range(prebs.shape[0]):\n",
        "            preb = prebs[i, :, :]\n",
        "            preb_label = list()\n",
        "            for j in range(preb.shape[1]):\n",
        "                preb_label.append(np.argmax(preb[:, j], axis=0))\n",
        "            no_repeat_blank_label = list()\n",
        "            pre_c = preb_label[0]\n",
        "            if pre_c != len(CHARS) - 1:\n",
        "                no_repeat_blank_label.append(pre_c)\n",
        "            for c in preb_label: # dropout repeate label and blank label\n",
        "                if (pre_c == c) or (c == len(CHARS) - 1):\n",
        "                    if c == len(CHARS) - 1:\n",
        "                        pre_c = c\n",
        "                    continue\n",
        "                no_repeat_blank_label.append(c)\n",
        "                pre_c = c\n",
        "            preb_labels.append(no_repeat_blank_label)\n",
        "        for i, label in enumerate(preb_labels):\n",
        "            # show image and its predict label\n",
        "            # if args.show:\n",
        "                # show(imgs[i], label, targets[i])\n",
        "            if len(label) != len(targets[i]):\n",
        "                Tn_1 += 1\n",
        "                continue\n",
        "            if (np.asarray(targets[i]) == np.asarray(label)).all():\n",
        "                Tp += 1\n",
        "            else:\n",
        "                Tn_2 += 1\n",
        "    Acc = Tp * 1.0 / (Tp + Tn_1 + Tn_2)\n",
        "    print(\"[Info] Test Accuracy: {} [{}:{}:{}:{}]\".format(Acc, Tp, Tn_1, Tn_2, (Tp+Tn_1+Tn_2)))\n",
        "    t2 = time.time()\n",
        "    print(\"[Info] Test Speed: {}s 1/{}]\".format((t2 - t1) / len(datasets), len(datasets)))\n"
      ],
      "metadata": {
        "id": "3L5huP8aPT_r"
      },
      "execution_count": 5,

      "outputs": []
    },
    {
      "cell_type": "markdown",
      "source": [
        "## JIT Trace NN Module"
      ],
      "metadata": {
        "id": "hdKb4FhroO_R"
      }
    },
    {
      "cell_type": "code",
      "source": [
        "class small_basic_block(nn.Module):\n",
        "    def __init__(self, ch_in, ch_out):\n",
        "        super(small_basic_block, self).__init__()\n",
        "        self.block = nn.Sequential(\n",
        "            nn.Conv2d(ch_in, ch_out // 4, kernel_size=1),\n",
        "            nn.ReLU(),\n",
        "            nn.Conv2d(ch_out // 4, ch_out // 4, kernel_size=(3, 1), padding=(1, 0)),\n",
        "            nn.ReLU(),\n",
        "            nn.Conv2d(ch_out // 4, ch_out // 4, kernel_size=(1, 3), padding=(0, 1)),\n",
        "            nn.ReLU(),\n",
        "            nn.Conv2d(ch_out // 4, ch_out, kernel_size=1),\n",
        "        )\n",
        "    def forward(self, x):\n",
        "        return self.block(x)\n",
        "\n",
        "class LPRNet(nn.Module):\n",
        "    def __init__(self, lpr_max_len, phase, class_num, dropout_rate):\n",
        "        super(LPRNet, self).__init__()\n",
        "        self.phase = phase\n",
        "        self.lpr_max_len = lpr_max_len\n",
        "        self.class_num = class_num\n",
        "        self.backbone = nn.Sequential(\n",
        "            nn.Conv2d(in_channels=3, out_channels=64, kernel_size=3, stride=1), # 0\n",
        "            nn.BatchNorm2d(num_features=64),\n",
        "            nn.ReLU(),  # 2\n",
        "            nn.MaxPool3d(kernel_size=(1, 3, 3), stride=(1, 1, 1)),\n",
        "            small_basic_block(ch_in=64, ch_out=128),    # *** 4 ***\n",
        "            nn.BatchNorm2d(num_features=128),\n",
        "            nn.ReLU(),  # 6\n",
        "            nn.MaxPool3d(kernel_size=(1, 3, 3), stride=(2, 1, 2)),\n",
        "            small_basic_block(ch_in=64, ch_out=256),   # 8\n",
        "            nn.BatchNorm2d(num_features=256),\n",
        "            nn.ReLU(),  # 10\n",
        "            small_basic_block(ch_in=256, ch_out=256),   # *** 11 ***\n",
        "            nn.BatchNorm2d(num_features=256),   # 12\n",
        "            nn.ReLU(),\n",
        "            nn.MaxPool3d(kernel_size=(1, 3, 3), stride=(4, 1, 2)),  # 14\n",
        "            nn.Dropout(dropout_rate),\n",
        "            nn.Conv2d(in_channels=64, out_channels=256, kernel_size=(1, 4), stride=1),  # 16\n",
        "            nn.BatchNorm2d(num_features=256),\n",
        "            nn.ReLU(),  # 18\n",
        "            nn.Dropout(dropout_rate),\n",
        "            nn.Conv2d(in_channels=256, out_channels=class_num, kernel_size=(13, 1), stride=1), # 20\n",
        "            nn.BatchNorm2d(num_features=class_num),\n",
        "            nn.ReLU(),  # *** 22 ***\n",
        "        )\n",
        "        self.container = nn.Sequential(\n",
        "            nn.Conv2d(in_channels=448+self.class_num, out_channels=self.class_num, kernel_size=(1, 1), stride=(1, 1)),\n",
        "        )\n",
        "\n",
        "    def forward(self, x):\n",
        "        keep_features = list()\n",
        "        for i, layer in enumerate(self.backbone.children()):\n",
        "            x = layer(x)\n",
        "            if i in [2, 6, 13, 22]: # [2, 4, 8, 11, 22]\n",
        "                keep_features.append(x)\n",
        "\n",
        "        global_context = list()\n",
        "        for i, f in enumerate(keep_features):\n",
        "            if i in [0, 1]:\n",
        "                f = nn.AvgPool2d(kernel_size=5, stride=5)(f)\n",
        "            if i in [2]:\n",
        "                f = nn.AvgPool2d(kernel_size=(4, 10), stride=(4, 2))(f)\n",
        "            f_pow = torch.pow(f, 2)\n",
        "            f_mean = torch.mean(f_pow)\n",
        "            f = torch.div(f, f_mean)\n",
        "            global_context.append(f)\n",
        "\n",
        "        x = torch.cat(global_context, 1)\n",
        "        x = self.container(x)\n",
        "        logits = torch.mean(x, dim=2)\n",
        "\n",
        "        return logits\n",
        "\n",
        "def build_lprnet(lpr_max_len=8, phase=False, class_num=66, dropout_rate=0.5):\n",
        "\n",
        "    Net = LPRNet(lpr_max_len, phase, class_num, dropout_rate)\n",
        "\n",
        "    if phase == \"train\":\n",
        "        return Net.train()\n",
        "    else:\n",
        "        return Net.eval()"
      ],
      "metadata": {
        "id": "OR1tpbhqhlk-"
      },
      "execution_count": 6,

      "outputs": []
    },
    {
      "cell_type": "code",
      "source": [
        "lprnet = build_lprnet(lpr_max_len=8, phase=False, class_num=68, dropout_rate=0.5)\n",
        "lprnet.load_state_dict(torch.load(\"./weights/Final_LPRNet_model.pth\",  map_location=torch.device('cpu')))\n",
        "lprnet.eval()\n",
        "\n",
        "example_input = torch.randn(1, 3, 24, 94)\n",
        "traced_model = torch.jit.trace(lprnet, example_input)\n",
        "traced_model.save(\"lprnet_traced.pt\")"
      ],
      "metadata": {
        "colab": {
          "base_uri": "https://localhost:8080/"
        },
        "id": "JCITtvasjYa1",
        "outputId": "409b3712-7069-4421-9c7d-cc94dcd816c5"
      },
      "execution_count": 7,

      "outputs": [
        {
          "output_type": "stream",
          "name": "stderr",
          "text": [
            "<ipython-input-7-0c7754a45614>:2: FutureWarning: You are using `torch.load` with `weights_only=False` (the current default value), which uses the default pickle module implicitly. It is possible to construct malicious pickle data which will execute arbitrary code during unpickling (See https://github.com/pytorch/pytorch/blob/main/SECURITY.md#untrusted-models for more details). In a future release, the default value for `weights_only` will be flipped to `True`. This limits the functions that could be executed during unpickling. Arbitrary objects will no longer be allowed to be loaded via this mode unless they are explicitly allowlisted by the user via `torch.serialization.add_safe_globals`. We recommend you start setting `weights_only=True` for any use case where you don't have full control of the loaded file. Please open an issue on GitHub for any issues related to this experimental feature.\n",

            "  lprnet.load_state_dict(torch.load(\"./weights/Final_LPRNet_model.pth\",  map_location=torch.device('cpu')))\n"
          ]
        }
      ]
    },
    {
      "cell_type": "code",
      "source": [
        "import tvm\n",
        "from tvm import relay\n",
        "from tvm.contrib.download import download_testdata\n",
        "\n",
        "# Load the TorchScript model\n",
        "scripted_model = torch.jit.load(\"lprnet_traced.pt\")\n",
        "scripted_model.eval()"
      ],
      "metadata": {
        "id": "QMH5ovBclK9W",
        "colab": {
          "base_uri": "https://localhost:8080/"
        },
        "outputId": "d9807d5f-ebf2-4e3a-9e7c-f8ad6af08af9"
      },
      "execution_count": 8,
      "outputs": [
        {
          "output_type": "execute_result",
          "data": {
            "text/plain": [
              "RecursiveScriptModule(\n",
              "  original_name=LPRNet\n",
              "  (backbone): RecursiveScriptModule(\n",
              "    original_name=Sequential\n",
              "    (0): RecursiveScriptModule(original_name=Conv2d)\n",
              "    (1): RecursiveScriptModule(original_name=BatchNorm2d)\n",
              "    (2): RecursiveScriptModule(original_name=ReLU)\n",
              "    (3): RecursiveScriptModule(original_name=MaxPool3d)\n",
              "    (4): RecursiveScriptModule(\n",
              "      original_name=small_basic_block\n",
              "      (block): RecursiveScriptModule(\n",
              "        original_name=Sequential\n",
              "        (0): RecursiveScriptModule(original_name=Conv2d)\n",
              "        (1): RecursiveScriptModule(original_name=ReLU)\n",
              "        (2): RecursiveScriptModule(original_name=Conv2d)\n",
              "        (3): RecursiveScriptModule(original_name=ReLU)\n",
              "        (4): RecursiveScriptModule(original_name=Conv2d)\n",
              "        (5): RecursiveScriptModule(original_name=ReLU)\n",
              "        (6): RecursiveScriptModule(original_name=Conv2d)\n",
              "      )\n",
              "    )\n",
              "    (5): RecursiveScriptModule(original_name=BatchNorm2d)\n",
              "    (6): RecursiveScriptModule(original_name=ReLU)\n",
              "    (7): RecursiveScriptModule(original_name=MaxPool3d)\n",
              "    (8): RecursiveScriptModule(\n",
              "      original_name=small_basic_block\n",
              "      (block): RecursiveScriptModule(\n",
              "        original_name=Sequential\n",
              "        (0): RecursiveScriptModule(original_name=Conv2d)\n",
              "        (1): RecursiveScriptModule(original_name=ReLU)\n",
              "        (2): RecursiveScriptModule(original_name=Conv2d)\n",
              "        (3): RecursiveScriptModule(original_name=ReLU)\n",
              "        (4): RecursiveScriptModule(original_name=Conv2d)\n",
              "        (5): RecursiveScriptModule(original_name=ReLU)\n",
              "        (6): RecursiveScriptModule(original_name=Conv2d)\n",
              "      )\n",
              "    )\n",
              "    (9): RecursiveScriptModule(original_name=BatchNorm2d)\n",
              "    (10): RecursiveScriptModule(original_name=ReLU)\n",
              "    (11): RecursiveScriptModule(\n",
              "      original_name=small_basic_block\n",
              "      (block): RecursiveScriptModule(\n",
              "        original_name=Sequential\n",
              "        (0): RecursiveScriptModule(original_name=Conv2d)\n",
              "        (1): RecursiveScriptModule(original_name=ReLU)\n",
              "        (2): RecursiveScriptModule(original_name=Conv2d)\n",
              "        (3): RecursiveScriptModule(original_name=ReLU)\n",
              "        (4): RecursiveScriptModule(original_name=Conv2d)\n",
              "        (5): RecursiveScriptModule(original_name=ReLU)\n",
              "        (6): RecursiveScriptModule(original_name=Conv2d)\n",
              "      )\n",
              "    )\n",
              "    (12): RecursiveScriptModule(original_name=BatchNorm2d)\n",
              "    (13): RecursiveScriptModule(original_name=ReLU)\n",
              "    (14): RecursiveScriptModule(original_name=MaxPool3d)\n",
              "    (15): RecursiveScriptModule(original_name=Dropout)\n",
              "    (16): RecursiveScriptModule(original_name=Conv2d)\n",
              "    (17): RecursiveScriptModule(original_name=BatchNorm2d)\n",
              "    (18): RecursiveScriptModule(original_name=ReLU)\n",
              "    (19): RecursiveScriptModule(original_name=Dropout)\n",
              "    (20): RecursiveScriptModule(original_name=Conv2d)\n",
              "    (21): RecursiveScriptModule(original_name=BatchNorm2d)\n",
              "    (22): RecursiveScriptModule(original_name=ReLU)\n",
              "  )\n",
              "  (container): RecursiveScriptModule(\n",
              "    original_name=Sequential\n",
              "    (0): RecursiveScriptModule(original_name=Conv2d)\n",
              "  )\n",
              ")"
            ]
          },
          "metadata": {},
          "execution_count": 8

        }
      ]
    },
    {
      "cell_type": "markdown",
      "source": [
        "## Compile into Relay Module"
      ],
      "metadata": {
        "id": "5h7u1xf-WZW4"
      }
    },
    {
      "cell_type": "code",
      "source": [
        "from types import SimpleNamespace\n",
        "\n",
        "args = {\n",
        "    'img_size': [94, 24],\n",
        "    'test_img_dirs': \"./data/test\",\n",
        "    'dropout_rate': 0,\n",
        "    'lpr_max_len': 8,\n",
        "    'test_batch_size': 100,\n",
        "    'phase_train': False,\n",
        "    'num_workers': 8,\n",
        "    'cuda': False,\n",
        "    'show': False,\n",
        "    'pretrained_model': './weights/Final_LPRNet_model.pth'\n",
        "}\n",
        "\n",
        "args = SimpleNamespace(**args)"
      ],
      "metadata": {
        "id": "uFT97ExjQMEY"
      },

      "execution_count": 9,

      "outputs": []
    },
    {
      "cell_type": "code",
      "source": [
        "input_shape = (args.test_batch_size, 3, 24, 94)\n",
        "input_name = \"input0\"\n",
        "input_shapes = [(input_name, input_shape)]\n",
        "\n",
        "# Convert to TVM Relay format\n",
        "mod, params = relay.frontend.from_pytorch(scripted_model, input_shapes)"
      ],
      "metadata": {
        "id": "0pZV6jYCWP2a"
      },

      "execution_count": 10,

      "outputs": []
    },
    {
      "cell_type": "code",
      "source": [
        "print(mod[\"main\"])"
      ],
      "metadata": {
        "colab": {
          "base_uri": "https://localhost:8080/"
        },
        "id": "LfIBJf-seP1Y",

        "outputId": "e34613a8-fa2b-4c83-a297-698ca188551b"
      },
      "execution_count": 11,

      "outputs": [
        {
          "output_type": "stream",
          "name": "stdout",
          "text": [
            "fn (%input0: Tensor[(100, 3, 24, 94), float32] /* span=aten::_convolution_0.input0:0:0 */, %aten::_convolution_0.weight: Tensor[(64, 3, 3, 3), float32] /* span=aten::_convolution_0.weight:0:0 */, %aten::_convolution_0.bias: Tensor[(64), float32] /* span=aten::_convolution_0.bias:0:0 */, %aten::batch_norm_0.weight: Tensor[(64), float32] /* span=aten::batch_norm_0.weight:0:0 */, %aten::batch_norm_0.bias: Tensor[(64), float32] /* span=aten::batch_norm_0.bias:0:0 */, %aten::batch_norm_0.running_mean: Tensor[(64), float32] /* span=aten::batch_norm_0.running_mean:0:0 */, %aten::batch_norm_0.running_var: Tensor[(64), float32] /* span=aten::batch_norm_0.running_var:0:0 */, %aten::_convolution_1.weight: Tensor[(32, 64, 1, 1), float32] /* span=aten::_convolution_1.weight:0:0 */, %aten::_convolution_1.bias: Tensor[(32), float32] /* span=aten::_convolution_1.bias:0:0 */, %aten::_convolution_2.weight: Tensor[(32, 32, 3, 1), float32] /* span=aten::_convolution_2.weight:0:0 */, %aten::_convolution_2.bias: Tensor[(32), float32] /* span=aten::_convolution_2.bias:0:0 */, %aten::_convolution_3.weight: Tensor[(32, 32, 1, 3), float32] /* span=aten::_convolution_3.weight:0:0 */, %aten::_convolution_3.bias: Tensor[(32), float32] /* span=aten::_convolution_3.bias:0:0 */, %aten::_convolution_4.weight: Tensor[(128, 32, 1, 1), float32] /* span=aten::_convolution_4.weight:0:0 */, %aten::_convolution_4.bias: Tensor[(128), float32] /* span=aten::_convolution_4.bias:0:0 */, %aten::batch_norm_1.weight: Tensor[(128), float32] /* span=aten::batch_norm_1.weight:0:0 */, %aten::batch_norm_1.bias: Tensor[(128), float32] /* span=aten::batch_norm_1.bias:0:0 */, %aten::batch_norm_1.running_mean: Tensor[(128), float32] /* span=aten::batch_norm_1.running_mean:0:0 */, %aten::batch_norm_1.running_var: Tensor[(128), float32] /* span=aten::batch_norm_1.running_var:0:0 */, %aten::_convolution_5.weight: Tensor[(64, 64, 1, 1), float32] /* span=aten::_convolution_5.weight:0:0 */, %aten::_convolution_5.bias: Tensor[(64), float32] /* span=aten::_convolution_5.bias:0:0 */, %aten::_convolution_6.weight: Tensor[(64, 64, 3, 1), float32] /* span=aten::_convolution_6.weight:0:0 */, %aten::_convolution_6.bias: Tensor[(64), float32] /* span=aten::_convolution_6.bias:0:0 */, %aten::_convolution_7.weight: Tensor[(64, 64, 1, 3), float32] /* span=aten::_convolution_7.weight:0:0 */, %aten::_convolution_7.bias: Tensor[(64), float32] /* span=aten::_convolution_7.bias:0:0 */, %aten::_convolution_8.weight: Tensor[(256, 64, 1, 1), float32] /* span=aten::_convolution_8.weight:0:0 */, %aten::_convolution_8.bias: Tensor[(256), float32] /* span=aten::_convolution_8.bias:0:0 */, %aten::batch_norm_2.weight: Tensor[(256), float32] /* span=aten::batch_norm_2.weight:0:0 */, %aten::batch_norm_2.bias: Tensor[(256), float32] /* span=aten::batch_norm_2.bias:0:0 */, %aten::batch_norm_2.running_mean: Tensor[(256), float32] /* span=aten::batch_norm_2.running_mean:0:0 */, %aten::batch_norm_2.running_var: Tensor[(256), float32] /* span=aten::batch_norm_2.running_var:0:0 */, %aten::_convolution_9.weight: Tensor[(64, 256, 1, 1), float32] /* span=aten::_convolution_9.weight:0:0 */, %aten::_convolution_9.bias: Tensor[(64), float32] /* span=aten::_convolution_9.bias:0:0 */, %aten::_convolution_10.weight: Tensor[(64, 64, 3, 1), float32] /* span=aten::_convolution_10.weight:0:0 */, %aten::_convolution_10.bias: Tensor[(64), float32] /* span=aten::_convolution_10.bias:0:0 */, %aten::_convolution_11.weight: Tensor[(64, 64, 1, 3), float32] /* span=aten::_convolution_11.weight:0:0 */, %aten::_convolution_11.bias: Tensor[(64), float32] /* span=aten::_convolution_11.bias:0:0 */, %aten::_convolution_12.weight: Tensor[(256, 64, 1, 1), float32] /* span=aten::_convolution_12.weight:0:0 */, %aten::_convolution_12.bias: Tensor[(256), float32] /* span=aten::_convolution_12.bias:0:0 */, %aten::batch_norm_3.weight: Tensor[(256), float32] /* span=aten::batch_norm_3.weight:0:0 */, %aten::batch_norm_3.bias: Tensor[(256), float32] /* span=aten::batch_norm_3.bias:0:0 */, %aten::batch_norm_3.running_mean: Tensor[(256), float32] /* span=aten::batch_norm_3.running_mean:0:0 */, %aten::batch_norm_3.running_var: Tensor[(256), float32] /* span=aten::batch_norm_3.running_var:0:0 */, %aten::_convolution_13.weight: Tensor[(256, 64, 1, 4), float32] /* span=aten::_convolution_13.weight:0:0 */, %aten::_convolution_13.bias: Tensor[(256), float32] /* span=aten::_convolution_13.bias:0:0 */, %aten::batch_norm_4.weight: Tensor[(256), float32] /* span=aten::batch_norm_4.weight:0:0 */, %aten::batch_norm_4.bias: Tensor[(256), float32] /* span=aten::batch_norm_4.bias:0:0 */, %aten::batch_norm_4.running_mean: Tensor[(256), float32] /* span=aten::batch_norm_4.running_mean:0:0 */, %aten::batch_norm_4.running_var: Tensor[(256), float32] /* span=aten::batch_norm_4.running_var:0:0 */, %aten::_convolution_14.weight: Tensor[(68, 256, 13, 1), float32] /* span=aten::_convolution_14.weight:0:0 */, %aten::_convolution_14.bias: Tensor[(68), float32] /* span=aten::_convolution_14.bias:0:0 */, %aten::batch_norm_5.weight: Tensor[(68), float32] /* span=aten::batch_norm_5.weight:0:0 */, %aten::batch_norm_5.bias: Tensor[(68), float32] /* span=aten::batch_norm_5.bias:0:0 */, %aten::batch_norm_5.running_mean: Tensor[(68), float32] /* span=aten::batch_norm_5.running_mean:0:0 */, %aten::batch_norm_5.running_var: Tensor[(68), float32] /* span=aten::batch_norm_5.running_var:0:0 */, %aten::_convolution_15.weight: Tensor[(68, 516, 1, 1), float32] /* span=aten::_convolution_15.weight:0:0 */, %aten::_convolution_15.bias: Tensor[(68), float32] /* span=aten::_convolution_15.bias:0:0 */) {\n",
            "  %0 = nn.conv2d(%input0, %aten::_convolution_0.weight, padding=[0, 0, 0, 0], channels=64, kernel_size=[3, 3]) /* span=aten::_convolution_0:0:0 */;\n",
            "  %1 = nn.bias_add(%0, %aten::_convolution_0.bias) /* span=aten::_convolution_0:0:0 */;\n",
            "  %2 = nn.batch_norm(%1, %aten::batch_norm_0.weight, %aten::batch_norm_0.bias, %aten::batch_norm_0.running_mean, %aten::batch_norm_0.running_var) /* span=aten::batch_norm_0:0:0 */;\n",
            "  %3 = %2.0 /* span=aten::batch_norm_0:0:0 */;\n",
            "  %4 = nn.relu(%3) /* span=aten::relu_0:0:0 */;\n",
            "  %5 = nn.avg_pool2d(%4, pool_size=[5, 5], strides=[5, 5], padding=[0, 0, 0, 0], count_include_pad=True) /* span=aten::avg_pool2d_0:0:0 */;\n",
            "  %6 = power(%5, 2f /* span=aten::pow_0:0:0 */) /* span=aten::pow_0:0:0 */;\n",
            "  %7 = mean(%6) /* span=aten::mean_0:0:0 */;\n",
            "  %8 = expand_dims(%4, axis=0) /* span=aten::max_pool3d_0:0:0 */;\n",
            "  %9 = nn.max_pool3d(%8, pool_size=[1, 3, 3], padding=[0, 0, 0, 0, 0, 0]) /* span=aten::max_pool3d_0:0:0 */;\n",
            "  %10 = squeeze(%9, axis=[0]) /* span=aten::max_pool3d_0:0:0 */;\n",
            "  %11 = nn.conv2d(%10, %aten::_convolution_1.weight, padding=[0, 0, 0, 0], channels=32, kernel_size=[1, 1]) /* span=aten::_convolution_1:0:0 */;\n",
            "  %12 = nn.bias_add(%11, %aten::_convolution_1.bias) /* span=aten::_convolution_1:0:0 */;\n",
            "  %13 = nn.relu(%12) /* span=aten::relu_1:0:0 */;\n",
            "  %14 = nn.conv2d(%13, %aten::_convolution_2.weight, padding=[1, 0, 1, 0], channels=32, kernel_size=[3, 1]) /* span=aten::_convolution_2:0:0 */;\n",
            "  %15 = nn.bias_add(%14, %aten::_convolution_2.bias) /* span=aten::_convolution_2:0:0 */;\n",
            "  %16 = nn.relu(%15) /* span=aten::relu_2:0:0 */;\n",
            "  %17 = nn.conv2d(%16, %aten::_convolution_3.weight, padding=[0, 1, 0, 1], channels=32, kernel_size=[1, 3]) /* span=aten::_convolution_3:0:0 */;\n",
            "  %18 = nn.bias_add(%17, %aten::_convolution_3.bias) /* span=aten::_convolution_3:0:0 */;\n",
            "  %19 = nn.relu(%18) /* span=aten::relu_3:0:0 */;\n",
            "  %20 = nn.conv2d(%19, %aten::_convolution_4.weight, padding=[0, 0, 0, 0], channels=128, kernel_size=[1, 1]) /* span=aten::_convolution_4:0:0 */;\n",
            "  %21 = nn.bias_add(%20, %aten::_convolution_4.bias) /* span=aten::_convolution_4:0:0 */;\n",
            "  %22 = nn.batch_norm(%21, %aten::batch_norm_1.weight, %aten::batch_norm_1.bias, %aten::batch_norm_1.running_mean, %aten::batch_norm_1.running_var) /* span=aten::batch_norm_1:0:0 */;\n",
            "  %23 = %22.0 /* span=aten::batch_norm_1:0:0 */;\n",
            "  %24 = nn.relu(%23) /* span=aten::relu_4:0:0 */;\n",
            "  %25 = nn.avg_pool2d(%24, pool_size=[5, 5], strides=[5, 5], padding=[0, 0, 0, 0], count_include_pad=True) /* span=aten::avg_pool2d_1:0:0 */;\n",
            "  %26 = power(%25, 2f /* span=aten::pow_1:0:0 */) /* span=aten::pow_1:0:0 */;\n",
            "  %27 = mean(%26) /* span=aten::mean_1:0:0 */;\n",
            "  %28 = expand_dims(%24, axis=0) /* span=aten::max_pool3d_1:0:0 */;\n",
            "  %29 = nn.max_pool3d(%28, pool_size=[1, 3, 3], strides=[2, 1, 2], padding=[0, 0, 0, 0, 0, 0]) /* span=aten::max_pool3d_1:0:0 */;\n",
            "  %30 = squeeze(%29, axis=[0]) /* span=aten::max_pool3d_1:0:0 */;\n",
            "  %31 = nn.conv2d(%30, %aten::_convolution_5.weight, padding=[0, 0, 0, 0], channels=64, kernel_size=[1, 1]) /* span=aten::_convolution_5:0:0 */;\n",
            "  %32 = nn.bias_add(%31, %aten::_convolution_5.bias) /* span=aten::_convolution_5:0:0 */;\n",
            "  %33 = nn.relu(%32) /* span=aten::relu_5:0:0 */;\n",
            "  %34 = nn.conv2d(%33, %aten::_convolution_6.weight, padding=[1, 0, 1, 0], channels=64, kernel_size=[3, 1]) /* span=aten::_convolution_6:0:0 */;\n",
            "  %35 = nn.bias_add(%34, %aten::_convolution_6.bias) /* span=aten::_convolution_6:0:0 */;\n",
            "  %36 = nn.relu(%35) /* span=aten::relu_6:0:0 */;\n",
            "  %37 = nn.conv2d(%36, %aten::_convolution_7.weight, padding=[0, 1, 0, 1], channels=64, kernel_size=[1, 3]) /* span=aten::_convolution_7:0:0 */;\n",
            "  %38 = nn.bias_add(%37, %aten::_convolution_7.bias) /* span=aten::_convolution_7:0:0 */;\n",
            "  %39 = nn.relu(%38) /* span=aten::relu_7:0:0 */;\n",
            "  %40 = nn.conv2d(%39, %aten::_convolution_8.weight, padding=[0, 0, 0, 0], channels=256, kernel_size=[1, 1]) /* span=aten::_convolution_8:0:0 */;\n",
            "  %41 = nn.bias_add(%40, %aten::_convolution_8.bias) /* span=aten::_convolution_8:0:0 */;\n",
            "  %42 = nn.batch_norm(%41, %aten::batch_norm_2.weight, %aten::batch_norm_2.bias, %aten::batch_norm_2.running_mean, %aten::batch_norm_2.running_var) /* span=aten::batch_norm_2:0:0 */;\n",
            "  %43 = %42.0 /* span=aten::batch_norm_2:0:0 */;\n",
            "  %44 = nn.relu(%43) /* span=aten::relu_8:0:0 */;\n",
            "  %45 = nn.conv2d(%44, %aten::_convolution_9.weight, padding=[0, 0, 0, 0], channels=64, kernel_size=[1, 1]) /* span=aten::_convolution_9:0:0 */;\n",
            "  %46 = nn.bias_add(%45, %aten::_convolution_9.bias) /* span=aten::_convolution_9:0:0 */;\n",
            "  %47 = nn.relu(%46) /* span=aten::relu_9:0:0 */;\n",
            "  %48 = nn.conv2d(%47, %aten::_convolution_10.weight, padding=[1, 0, 1, 0], channels=64, kernel_size=[3, 1]) /* span=aten::_convolution_10:0:0 */;\n",
            "  %49 = nn.bias_add(%48, %aten::_convolution_10.bias) /* span=aten::_convolution_10:0:0 */;\n",
            "  %50 = nn.relu(%49) /* span=aten::relu_10:0:0 */;\n",
            "  %51 = nn.conv2d(%50, %aten::_convolution_11.weight, padding=[0, 1, 0, 1], channels=64, kernel_size=[1, 3]) /* span=aten::_convolution_11:0:0 */;\n",
            "  %52 = nn.bias_add(%51, %aten::_convolution_11.bias) /* span=aten::_convolution_11:0:0 */;\n",
            "  %53 = nn.relu(%52) /* span=aten::relu_11:0:0 */;\n",
            "  %54 = nn.conv2d(%53, %aten::_convolution_12.weight, padding=[0, 0, 0, 0], channels=256, kernel_size=[1, 1]) /* span=aten::_convolution_12:0:0 */;\n",
            "  %55 = nn.bias_add(%54, %aten::_convolution_12.bias) /* span=aten::_convolution_12:0:0 */;\n",
            "  %56 = nn.batch_norm(%55, %aten::batch_norm_3.weight, %aten::batch_norm_3.bias, %aten::batch_norm_3.running_mean, %aten::batch_norm_3.running_var) /* span=aten::batch_norm_3:0:0 */;\n",
            "  %57 = %56.0 /* span=aten::batch_norm_3:0:0 */;\n",
            "  %58 = nn.relu(%57) /* span=aten::relu_12:0:0 */;\n",
            "  %59 = nn.avg_pool2d(%58, pool_size=[4, 10], strides=[4, 2], padding=[0, 0, 0, 0], count_include_pad=True) /* span=aten::avg_pool2d_2:0:0 */;\n",
            "  %60 = power(%59, 2f /* span=aten::pow_2:0:0 */) /* span=aten::pow_2:0:0 */;\n",
            "  %61 = mean(%60) /* span=aten::mean_2:0:0 */;\n",
            "  %62 = expand_dims(%58, axis=0) /* span=aten::max_pool3d_2:0:0 */;\n",
            "  %63 = nn.max_pool3d(%62, pool_size=[1, 3, 3], strides=[4, 1, 2], padding=[0, 0, 0, 0, 0, 0]) /* span=aten::max_pool3d_2:0:0 */;\n",
            "  %64 = squeeze(%63, axis=[0]) /* span=aten::max_pool3d_2:0:0 */;\n",
            "  %65 = nn.dropout(%64) /* span=aten::dropout_0:0:0 */;\n",
            "  %66 = %65.0 /* span=aten::dropout_0:0:0 */;\n",
            "  %67 = nn.conv2d(%66, %aten::_convolution_13.weight, padding=[0, 0, 0, 0], channels=256, kernel_size=[1, 4]) /* span=aten::_convolution_13:0:0 */;\n",
            "  %68 = nn.bias_add(%67, %aten::_convolution_13.bias) /* span=aten::_convolution_13:0:0 */;\n",
            "  %69 = nn.batch_norm(%68, %aten::batch_norm_4.weight, %aten::batch_norm_4.bias, %aten::batch_norm_4.running_mean, %aten::batch_norm_4.running_var) /* span=aten::batch_norm_4:0:0 */;\n",
            "  %70 = %69.0 /* span=aten::batch_norm_4:0:0 */;\n",
            "  %71 = nn.relu(%70) /* span=aten::relu_13:0:0 */;\n",
            "  %72 = nn.dropout(%71) /* span=aten::dropout_1:0:0 */;\n",
            "  %73 = %72.0 /* span=aten::dropout_1:0:0 */;\n",
            "  %74 = nn.conv2d(%73, %aten::_convolution_14.weight, padding=[0, 0, 0, 0], channels=68, kernel_size=[13, 1]) /* span=aten::_convolution_14:0:0 */;\n",
            "  %75 = nn.bias_add(%74, %aten::_convolution_14.bias) /* span=aten::_convolution_14:0:0 */;\n",
            "  %76 = nn.batch_norm(%75, %aten::batch_norm_5.weight, %aten::batch_norm_5.bias, %aten::batch_norm_5.running_mean, %aten::batch_norm_5.running_var) /* span=aten::batch_norm_5:0:0 */;\n",
            "  %77 = %76.0 /* span=aten::batch_norm_5:0:0 */;\n",
            "  %78 = nn.relu(%77) /* span=aten::relu_14:0:0 */;\n",
            "  %79 = power(%78, 2f /* span=aten::pow_3:0:0 */) /* span=aten::pow_3:0:0 */;\n",
            "  %80 = mean(%79) /* span=aten::mean_3:0:0 */;\n",
            "  %81 = divide(%5, %7) /* span=aten::div_0:0:0 */;\n",
            "  %82 = divide(%25, %27) /* span=aten::div_1:0:0 */;\n",
            "  %83 = divide(%59, %61) /* span=aten::div_2:0:0 */;\n",
            "  %84 = divide(%78, %80) /* span=aten::div_3:0:0 */;\n",
            "  %85 = (%81, %82, %83, %84) /* span=aten::cat_0:0:0 */;\n",
            "  %86 = concatenate(%85, axis=1) /* span=aten::cat_0:0:0 */;\n",
            "  %87 = nn.conv2d(%86, %aten::_convolution_15.weight, padding=[0, 0, 0, 0], channels=68, kernel_size=[1, 1]) /* span=aten::_convolution_15:0:0 */;\n",
            "  %88 = nn.bias_add(%87, %aten::_convolution_15.bias) /* span=aten::_convolution_15:0:0 */;\n",
            "  mean(%88, axis=[2]) /* span=aten::mean_4:0:0 */\n",
            "}\n"
          ]
        }
      ]
    },
    {
      "cell_type": "code",
      "source": [
        "# Define the target device\n",
        "target = \"llvm\"\n",
        "dev = tvm.cuda(0) if target == \"cuda\" else tvm.cpu()\n",
        "\n",
        "# Compile the model\n",
        "with tvm.transform.PassContext(opt_level=3):\n",
        "    lib = relay.build(mod, target=target, params=params)"
      ],
      "metadata": {
        "id": "VgoUDAW-msFN",
        "colab": {
          "base_uri": "https://localhost:8080/"
        },
        "outputId": "63bb7f6d-a5b6-4d96-b2eb-b393bc73e3ab"
      },
      "execution_count": 12,

      "outputs": [
        {
          "output_type": "stream",
          "name": "stderr",
          "text": [
            "WARNING:autotvm:One or more operators have not been tuned. Please tune your model for better performance. Use DEBUG logging level to see more details.\n"
          ]
        }
      ]
    },
    {
      "cell_type": "code",
      "source": [
        "from tvm.contrib import graph_executor\n",
        "module = graph_executor.GraphModule(lib[\"default\"](dev))"
      ],
      "metadata": {
        "id": "ZeoGJHmGm_gD"
      },

      "execution_count": 13,

      "outputs": []
    },
    {
      "cell_type": "code",
      "source": [
        "test(module)"
      ],
      "metadata": {
        "colab": {
          "base_uri": "https://localhost:8080/"
        },
        "id": "eRydpwWKj2WV",
        "outputId": "b689ea42-cf5b-401d-f556-83d1209693a7"
      },
      "execution_count": 14,

      "outputs": [
        {
          "output_type": "stream",
          "name": "stderr",
          "text": [
            "/usr/local/lib/python3.10/dist-packages/torch/utils/data/dataloader.py:617: UserWarning: This DataLoader will create 8 worker processes in total. Our suggested max number of worker in current system is 2, which is smaller than what this DataLoader is going to create. Please be aware that excessive worker creation might get DataLoader running slow or even freeze, lower the worker number to avoid potential slowness/freeze if necessary.\n",
            "  warnings.warn(\n"
          ]
        },
        {
          "output_type": "stream",
          "name": "stdout",
          "text": [
            "Output shape: (100, 68, 18)\n",
            "Output shape: (100, 68, 18)\n",
            "Output shape: (100, 68, 18)\n",
            "Output shape: (100, 68, 18)\n",
            "Output shape: (100, 68, 18)\n",
            "Output shape: (100, 68, 18)\n",
            "Output shape: (100, 68, 18)\n",
            "Output shape: (100, 68, 18)\n",
            "Output shape: (100, 68, 18)\n",
            "Output shape: (100, 68, 18)\n",

            "[Info] Test Accuracy: 0.9 [900:60:40:1000]\n",
            "[Info] Test Speed: 0.04551440525054932s 1/1000]\n"

          ]
        }
      ]
    },
    {
      "cell_type": "markdown",
      "source": [
        "## Manual Optimization"
      ],
      "metadata": {
        "id": "WmKhkVMoM6QX"
      }
    },
    {
      "cell_type": "code",
      "source": [
        "# Basic manual optimization passes\n",
        "# 1. Canonicalization and Simplification\n",
        "mod_manual = relay.transform.InferType()(mod)\n",
        "mod_manual = relay.transform.SimplifyInference()(mod_manual)\n",
        "mod_manual = relay.transform.CanonicalizeOps()(mod_manual)\n",
        "\n",
        "# 2. Basic Arithmetic Simplification\n",
        "mod_manual = relay.transform.FoldConstant()(mod_manual)\n",
        "mod_manual = relay.transform.CombineParallelConv2D()(mod_manual)\n",
        "\n",
        "# 3. Layout Transformation (if applicable)\n",
        "# This can help optimize convolution and other spatial operations\n",
        "mod_manual = relay.transform.AlterOpLayout()(mod_manual)\n",
        "\n",
        "# 4. Dead Code Elimination\n",
        "mod_manual = relay.transform.DeadCodeElimination()(mod_manual)\n",
        "\n",
        "# 5. Optimize memory usage\n",
        "mod_manual = relay.transform.EliminateCommonSubexpr()(mod_manual)\n",
        "\n",
        "# # 6. Advanced Optimization Passes\n",
        "# # These can further optimize the computation graph\n",
        "# mod_nn = relay.transform.CombineParallelDense()(mod_nn)\n",
        "# mod_nn = relay.transform.PlanDevices()(mod_nn)"
      ],
      "metadata": {
        "id": "YLO2a_FpuHZ-"
      },

      "execution_count": 15,

      "outputs": []
    },
    {
      "cell_type": "code",
      "source": [
        "# Define the target device\n",
        "target = \"llvm\"\n",
        "dev = tvm.cuda(0) if target == \"cuda\" else tvm.cpu()\n",
        "\n",
        "# Compile the model\n",
        "with tvm.transform.PassContext(opt_level=3):\n",
        "    lib = relay.build(mod_manual, target=target, params=params)"
      ],
      "metadata": {
        "id": "weHudhLHjKRR"
      },

      "execution_count": 16,

      "outputs": []
    },
    {
      "cell_type": "code",
      "source": [
        "from tvm.contrib import graph_executor\n",
        "\n",
        "# Create a graph executor\n",
        "module = graph_executor.GraphModule(lib[\"default\"](dev))"
      ],
      "metadata": {
        "id": "mhgk40BLjKRS"
      },

      "execution_count": 17,

      "outputs": []
    },
    {
      "cell_type": "code",
      "source": [
        "test(module)"
      ],
      "metadata": {
        "colab": {
          "base_uri": "https://localhost:8080/"
        },
        "id": "132CjOU1PUFE",

        "outputId": "8be2fd20-d3cb-4f44-87dd-c1fd4d6f082c"
      },
      "execution_count": 18,

      "outputs": [
        {
          "output_type": "stream",
          "name": "stdout",
          "text": [
            "Output shape: (100, 68, 18)\n",
            "Output shape: (100, 68, 18)\n",
            "Output shape: (100, 68, 18)\n",
            "Output shape: (100, 68, 18)\n",
            "Output shape: (100, 68, 18)\n",
            "Output shape: (100, 68, 18)\n",
            "Output shape: (100, 68, 18)\n",
            "Output shape: (100, 68, 18)\n",
            "Output shape: (100, 68, 18)\n",
            "Output shape: (100, 68, 18)\n",

            "[Info] Test Accuracy: 0.9 [900:60:40:1000]\n",
            "[Info] Test Speed: 0.04570854353904724s 1/1000]\n"

          ]
        }
      ]
    },
    {
      "cell_type": "markdown",
      "source": [
        "## Auto Tuning"
      ],
      "metadata": {
        "id": "Ry1fhoNC_rD0"
      }
    },
    {
      "cell_type": "code",
      "source": [
        "import tvm.auto_scheduler as auto_scheduler\n",
        "from tvm.autotvm.tuner import XGBTuner\n",
        "from tvm import autotvm"
      ],
      "metadata": {
        "id": "8XYN7di7_Vpv"
      },

      "execution_count": 19,

      "outputs": []
    },
    {
      "cell_type": "code",
      "source": [
        "number = 10\n",
        "repeat = 1\n",
        "min_repeat_ms = 0  # since we're tuning on a CPU, can be set to 0\n",
        "timeout = 10  # in seconds\n",
        "\n",
        "# create a TVM runner\n",
        "runner = autotvm.LocalRunner(\n",
        "    number=number,\n",
        "    repeat=repeat,\n",
        "    timeout=timeout,\n",
        "    min_repeat_ms=min_repeat_ms,\n",
        "    enable_cpu_cache_flush=True,\n",
        ")"
      ],
      "metadata": {
        "id": "E2mUjQlt_Vx2"
      },

      "execution_count": 20,

      "outputs": []
    },
    {
      "cell_type": "code",
      "source": [
        "tuning_option = {\n",
        "    \"tuner\": \"xgb\",\n",
        "    \"trials\": 20,\n",
        "    \"early_stopping\": 100,\n",
        "    \"measure_option\": autotvm.measure_option(\n",
        "        builder=autotvm.LocalBuilder(build_func=\"default\"), runner=runner\n",
        "    ),\n",
        "    \"tuning_records\": \"lprnet-autotuning.json\",\n",
        "}"
      ],
      "metadata": {
        "id": "r9t3lC1a_0Re"
      },

      "execution_count": 21,

      "outputs": []
    },
    {
      "cell_type": "code",
      "source": [
        "# begin by extracting the tasks from the onnx model\n",
        "tasks = autotvm.task.extract_from_program(mod[\"main\"], target=target, params=params)\n",
        "# print(tasks)\n",
        "# Tune the extracted tasks sequentially.\n",
        "for i, task in enumerate(tasks):\n",
        "    prefix = \"[Task %2d/%2d] \" % (i + 1, len(tasks))\n",
        "\n",
        "    # choose tuner\n",
        "    tuner = \"xgb\"\n",
        "\n",
        "    # create tuner\n",
        "    if tuner == \"xgb\":\n",
        "        tuner_obj = XGBTuner(task, loss_type=\"reg\")\n",
        "    # elif tuner == \"xgb_knob\":\n",
        "    #     tuner_obj = XGBTuner(task, loss_type=\"reg\", feature_type=\"knob\")\n",
        "    # elif tuner == \"xgb_itervar\":\n",
        "    #     tuner_obj = XGBTuner(task, loss_type=\"reg\", feature_type=\"itervar\")\n",
        "    # elif tuner == \"xgb_curve\":\n",
        "    #     tuner_obj = XGBTuner(task, loss_type=\"reg\", feature_type=\"curve\")\n",
        "    # elif tuner == \"xgb_rank\":\n",
        "    #     tuner_obj = XGBTuner(task, loss_type=\"rank\")\n",
        "    # elif tuner == \"xgb_rank_knob\":\n",
        "    #     tuner_obj = XGBTuner(task, loss_type=\"rank\", feature_type=\"knob\")\n",
        "    # elif tuner == \"xgb_rank_itervar\":\n",
        "    #     tuner_obj = XGBTuner(task, loss_type=\"rank\", feature_type=\"itervar\")\n",
        "    # elif tuner == \"xgb_rank_curve\":\n",
        "    #     tuner_obj = XGBTuner(task, loss_type=\"rank\", feature_type=\"curve\")\n",
        "    # elif tuner == \"xgb_rank_binary\":\n",
        "    #     tuner_obj = XGBTuner(task, loss_type=\"rank-binary\")\n",
        "    # elif tuner == \"xgb_rank_binary_knob\":\n",
        "    #     tuner_obj = XGBTuner(task, loss_type=\"rank-binary\", feature_type=\"knob\")\n",
        "    # elif tuner == \"xgb_rank_binary_itervar\":\n",
        "    #     tuner_obj = XGBTuner(task, loss_type=\"rank-binary\", feature_type=\"itervar\")\n",
        "    # elif tuner == \"xgb_rank_binary_curve\":\n",
        "    #     tuner_obj = XGBTuner(task, loss_type=\"rank-binary\", feature_type=\"curve\")\n",
        "    # elif tuner == \"ga\":\n",
        "    #     tuner_obj = GATuner(task, pop_size=50)\n",
        "    # elif tuner == \"random\":\n",
        "    #     tuner_obj = RandomTuner(task)\n",
        "    # elif tuner == \"gridsearch\":\n",
        "    #     tuner_obj = GridSearchTuner(task)\n",
        "    else:\n",
        "        raise ValueError(\"Invalid tuner: \" + tuner)\n",
        "\n",
        "    tuner_obj.tune(\n",
        "        n_trial=min(tuning_option[\"trials\"], len(task.config_space)),\n",
        "        early_stopping=tuning_option[\"early_stopping\"],\n",
        "        measure_option=tuning_option[\"measure_option\"],\n",
        "        callbacks=[\n",
        "            autotvm.callback.progress_bar(tuning_option[\"trials\"], prefix=prefix),\n",
        "            autotvm.callback.log_to_file(tuning_option[\"tuning_records\"]),\n",
        "        ],\n",
        "    )"
      ],
      "metadata": {
        "colab": {
          "base_uri": "https://localhost:8080/"
        },
        "id": "JuFXXkhp_0WW",
        "outputId": "eb998d7f-2503-4820-9966-67e0c5905763"
      },

      "execution_count": 22,

      "outputs": [
        {
          "output_type": "stream",
          "name": "stdout",
          "text": [
            "[Task  1/13]  Current/Best:   13.26/  15.26 GFLOPS | Progress: (20/20) | 54.60 s Done.\n",
            "[Task  2/13]  Current/Best:    7.83/  14.04 GFLOPS | Progress: (20/20) | 59.11 s Done.\n",
            "[Task  3/13]  Current/Best:    9.89/  13.25 GFLOPS | Progress: (20/20) | 71.67 s Done.\n",
            "[Task  4/13]  Current/Best:   10.17/  16.37 GFLOPS | Progress: (20/20) | 56.02 s Done.\n",
            "[Task  5/13]  Current/Best:    6.18/  12.07 GFLOPS | Progress: (20/20) | 108.58 s Done.\n",
            "[Task  6/13]  Current/Best:   12.90/  14.93 GFLOPS | Progress: (20/20) | 48.74 s Done.\n",
            "[Task  7/13]  Current/Best:    3.00/  15.00 GFLOPS | Progress: (20/20) | 100.11 s Done.\n",
            "[Task  8/13]  Current/Best:    7.04/  15.89 GFLOPS | Progress: (20/20) | 82.92 s Done.\n",
            "[Task  9/13]  Current/Best:   12.40/  17.41 GFLOPS | Progress: (20/20) | 120.57 s Done.\n",
            "[Task 10/13]  Current/Best:    6.87/  14.66 GFLOPS | Progress: (20/20) | 118.38 s Done.\n",
            "[Task 11/13]  Current/Best:   11.79/  17.54 GFLOPS | Progress: (20/20) | 125.78 s Done.\n",
            "[Task 12/13]  Current/Best:   11.65/  11.65 GFLOPS | Progress: (20/20) | 196.50 s Done.\n",
            "[Task 13/13]  Current/Best:    4.75/  12.57 GFLOPS | Progress: (20/20) | 52.08 s Done.\n"
          ]
        }
      ]
    },
    {
      "cell_type": "code",
      "source": [
        "with autotvm.apply_history_best(tuning_option[\"tuning_records\"]):\n",
        "    with tvm.transform.PassContext(opt_level=3, config={}):\n",
        "        lib = relay.build(mod, target=target, params=params)\n",
        "\n",
        "dev = tvm.device(str(target), 0)\n",
        "module = graph_executor.GraphModule(lib[\"default\"](dev))"
      ],
      "metadata": {
        "id": "oWLzTmY9_0bM"
      },

      "execution_count": 23,

      "outputs": []
    },
    {
      "cell_type": "code",
      "source": [
        "test(module)"
      ],
      "metadata": {
        "colab": {
          "base_uri": "https://localhost:8080/"
        },
        "id": "pjwjEhaUmSKZ",
        "outputId": "19c1ec57-a08c-4499-fa37-1bd919175705"
      },

      "execution_count": 24,

      "outputs": [
        {
          "output_type": "stream",
          "name": "stdout",
          "text": [
            "Output shape: (100, 68, 18)\n",
            "Output shape: (100, 68, 18)\n",
            "Output shape: (100, 68, 18)\n",
            "Output shape: (100, 68, 18)\n",
            "Output shape: (100, 68, 18)\n",
            "Output shape: (100, 68, 18)\n",
            "Output shape: (100, 68, 18)\n",
            "Output shape: (100, 68, 18)\n",
            "Output shape: (100, 68, 18)\n",
            "Output shape: (100, 68, 18)\n",
            "[Info] Test Accuracy: 0.899 [899:61:40:1000]\n",
            "[Info] Test Speed: 0.034932039499282835s 1/1000]\n"
          ]
        }
      ]
    },
    {
      "cell_type": "markdown",
      "source": [
        "## Base Performance"
      ],
      "metadata": {
        "id": "KMhzig4GmLZr"
      }
    },
    {
      "cell_type": "code",
      "source": [
        "! python /content/LPRNet_CSC591/test_LPRNet.py"
      ],
      "metadata": {
        "colab": {
          "base_uri": "https://localhost:8080/"
        },
        "id": "WwVEXkKCh7uH",
        "outputId": "6294a8ba-aafa-4c8a-be85-48ca2384c6bd"
      },

      "execution_count": 25,

      "outputs": [
        {
          "output_type": "stream",
          "name": "stdout",
          "text": [
            "Successful to build network!\n",
            "/content/LPRNet_CSC591/test_LPRNet.py:65: FutureWarning: You are using `torch.load` with `weights_only=False` (the current default value), which uses the default pickle module implicitly. It is possible to construct malicious pickle data which will execute arbitrary code during unpickling (See https://github.com/pytorch/pytorch/blob/main/SECURITY.md#untrusted-models for more details). In a future release, the default value for `weights_only` will be flipped to `True`. This limits the functions that could be executed during unpickling. Arbitrary objects will no longer be allowed to be loaded via this mode unless they are explicitly allowlisted by the user via `torch.serialization.add_safe_globals`. We recommend you start setting `weights_only=True` for any use case where you don't have full control of the loaded file. Please open an issue on GitHub for any issues related to this experimental feature.\n",
            "  lprnet.load_state_dict(torch.load(args.pretrained_model, map_location=torch.device('cpu')))\n",
            "load pretrained model successful!\n",
            "/usr/local/lib/python3.10/dist-packages/torch/utils/data/dataloader.py:617: UserWarning: This DataLoader will create 8 worker processes in total. Our suggested max number of worker in current system is 2, which is smaller than what this DataLoader is going to create. Please be aware that excessive worker creation might get DataLoader running slow or even freeze, lower the worker number to avoid potential slowness/freeze if necessary.\n",
            "  warnings.warn(\n",
            "[Info] Test Accuracy: 0.9 [900:59:41:1000]\n",
            "[Info] Test Speed: 0.2162080488204956s 1/1000]\n"
          ]
        }
      ]
    },
    {
      "cell_type": "code",
      "source": [
        "# Save the module (includes weights/parameters)\n",
        "module_path = \"module.tar\"\n",
        "lib.export_library(module_path)\n",
        "print(f\"Module saved to {module_path}\")\n"
      ],
      "metadata": {
        "colab": {
          "base_uri": "https://localhost:8080/"
        },
        "id": "3iPV7cSKzu93",
        "outputId": "f0cabb9d-6850-4cdc-ecd2-f43399c34f5c"
      },

      "execution_count": 26,

      "outputs": [
        {
          "output_type": "stream",
          "name": "stdout",
          "text": [
            "Module saved to module.tar\n"
          ]
        }
      ]
    }
  ]
}